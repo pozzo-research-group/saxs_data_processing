{
 "cells": [
  {
   "cell_type": "code",
   "execution_count": 40,
   "id": "93e5e335-4961-4832-bee6-cfc48ba9990e",
   "metadata": {},
   "outputs": [],
   "source": [
    "from SpecClient import SpecMessage\n",
    "import socket"
   ]
  },
  {
   "cell_type": "markdown",
   "id": "aa94053e-b838-4490-95f7-9da7a531f99e",
   "metadata": {},
   "source": [
    "## Minimum working Spec remote execution example\n",
    "\n",
    "This notebook is a minimum example of sending a command to spec remotely.\n",
    "\n",
    "Requires:\n",
    "- Python 2.7\n",
    "- SpecClient: https://github.com/mxcube/specclient/tree/master\n",
    "- socket\n",
    "\n",
    "### Setup\n",
    "SpecClient is old and run on python 2.7. Jupyter notebook does not run on 2.7. So if you want to run this example from a notebook rather than copy-pasting to a 2.7 prompt, you need to:\n",
    "1. Create your python 2.7 environment and install specclient\n",
    "2. Register this python kernel with Jupyter (chatGPT is useful here https://chatgpt.com/share/67ac0b7b-1948-8000-8003-33b2e51b0e48)\n",
    "3. Open a new jupyter window from python 3.x, and select the 2.7 kernel\n",
    "\n",
    "Now you can run this notebook. I've had it working while connected over wifi in SAXS room, not sure how networking will work elsewhere. "
   ]
  },
  {
   "cell_type": "code",
   "execution_count": 41,
   "id": "b0fdb6e2-2b3a-4181-a6e0-755d1487e34d",
   "metadata": {},
   "outputs": [],
   "source": [
    "spec_command = 'light_on' # turn the chamber light on\n",
    "spec_server_ip = '10.155.245.47'\n",
    "spec_server_port = 6510"
   ]
  },
  {
   "cell_type": "markdown",
   "id": "5247d3f6-4e84-4a41-bf3e-2dde972fc000",
   "metadata": {},
   "source": [
    "### 1. Generate the Spec message string \n",
    "This uses SpecClient to generate the correct byte string to send to spec. This is the format: https://certif.com/spec_help/server.html#protocol"
   ]
  },
  {
   "cell_type": "code",
   "execution_count": 37,
   "id": "53b043e7-aebc-478f-a133-d4c44fa63237",
   "metadata": {},
   "outputs": [],
   "source": [
    "rep, mesg = SpecMessage.msg_cmd_with_return('sc')"
   ]
  },
  {
   "cell_type": "code",
   "execution_count": 38,
   "id": "0bc19d4d-deff-4a73-8029-4b5ffe7b9fc4",
   "metadata": {},
   "outputs": [],
   "source": [
    "light_on_string = mesg.sendingString()\n"
   ]
  },
  {
   "cell_type": "markdown",
   "id": "baf3b575-19fa-4cdc-9c60-25561311d9f0",
   "metadata": {},
   "source": [
    "## 2. Send command with websocket"
   ]
  },
  {
   "cell_type": "code",
   "execution_count": 32,
   "id": "9620b4b7-5bc2-47a5-b6a8-756733c0cce8",
   "metadata": {},
   "outputs": [],
   "source": [
    "s = socket.socket(socket.AF_INET, socket.SOCK_STREAM)\n",
    "\n"
   ]
  },
  {
   "cell_type": "code",
   "execution_count": 33,
   "id": "288cb26f-f4f7-421c-a244-4644b0872d21",
   "metadata": {},
   "outputs": [],
   "source": [
    "s.connect((spec_server_ip, spec_server_port))"
   ]
  },
  {
   "cell_type": "code",
   "execution_count": 39,
   "id": "7a6668c9-c7fc-44df-97eb-799bda08d6b0",
   "metadata": {},
   "outputs": [
    {
     "data": {
      "text/plain": [
       "135"
      ]
     },
     "execution_count": 39,
     "metadata": {},
     "output_type": "execute_result"
    }
   ],
   "source": [
    "s.send(light_on_string)"
   ]
  },
  {
   "cell_type": "code",
   "execution_count": null,
   "id": "21f84645-a925-40b3-849d-875558c076c3",
   "metadata": {},
   "outputs": [],
   "source": []
  }
 ],
 "metadata": {
  "kernelspec": {
   "display_name": "Python 2.7",
   "language": "python",
   "name": "python2"
  },
  "language_info": {
   "codemirror_mode": {
    "name": "ipython",
    "version": 2
   },
   "file_extension": ".py",
   "mimetype": "text/x-python",
   "name": "python",
   "nbconvert_exporter": "python",
   "pygments_lexer": "ipython2",
   "version": "2.7.18"
  }
 },
 "nbformat": 4,
 "nbformat_minor": 5
}
