{
 "cells": [
  {
   "cell_type": "code",
   "execution_count": 36,
   "id": "70d22a11-5ee2-4ae9-9d39-b02f9a6fdf68",
   "metadata": {},
   "outputs": [],
   "source": [
    "import numpy as np\n",
    "import botorch\n",
    "import torch\n",
    "\n",
    "torch.set_default_dtype(torch.double)\n",
    "\n",
    "from botorch.acquisition.analytic import LogExpectedImprovement, UpperConfidenceBound\n",
    "from botorch.models.transforms.outcome import Standardize \n",
    "from botorch.optim import optimize_acqf\n",
    "from botorch.utils.transforms import normalize, unnormalize\n",
    "from botorch.sampling import SobolQMCNormalSampler\n",
    "from botorch.acquisition.logei import qLogNoisyExpectedImprovement\n",
    "\n",
    "from gpytorch.kernels import MaternKernel\n",
    "\n",
    "import torch\n",
    "\n",
    "from botorch.fit import fit_gpytorch_mll\n",
    "from botorch.models import SingleTaskGP\n",
    "from gpytorch.mlls import ExactMarginalLogLikelihood\n",
    "\n",
    "import json\n",
    "import pandas as pd\n",
    "import matplotlib.pyplot as plt\n",
    "\n",
    "from sklearn.manifold import TSNE\n",
    "from sklearn import metrics"
   ]
  },
  {
   "cell_type": "code",
   "execution_count": 2,
   "id": "ad3dd787-b36e-46ee-909e-f4949875f34c",
   "metadata": {},
   "outputs": [],
   "source": [
    "with open('/home/bgpelkie/Code/silica-np-synthesis/2024_10_17_RandomBaselineV4/constants_2024_10_17_randomV4.json', 'rt') as f:\n",
    "    synth_constants = json.load(f) "
   ]
  },
  {
   "cell_type": "code",
   "execution_count": 3,
   "id": "ed5cfcfc-979f-4792-8e77-cc409a672524",
   "metadata": {},
   "outputs": [
    {
     "data": {
      "text/plain": [
       "{'TEOS': {'minimum_volume_fraction': 0.01,\n",
       "  'maximum_volume_fraction': 0.15,\n",
       "  'density': 0.933,\n",
       "  'stock_concentration': 4.48,\n",
       "  'molecular_weight': 208.33,\n",
       "  'stock_source': 'Benson Jug',\n",
       "  'manufacturer': 'Aldrich',\n",
       "  'lot_number': 'WXBC2231V'},\n",
       " 'water': {'minimum_volume_fraction': 0.005,\n",
       "  'maximum_volume_fraction': 0.15,\n",
       "  'density': 0.9982,\n",
       "  'stock_concentration': 55.51,\n",
       "  'molecular_weight': 18.015,\n",
       "  'stock_source': 'Benson DI machine',\n",
       "  'manufacturer': 'nan',\n",
       "  'lot_number': 'nan'},\n",
       " 'ammonia': {'minimum_volume_fraction': 0.005,\n",
       "  'maximum_volume_fraction': 0.11,\n",
       "  'density': 0.9,\n",
       "  'molecular_weight': 35.046,\n",
       "  'stock_concentration': 55.51,\n",
       "  'stock_source': 'Benson vial',\n",
       "  'manufacturer': 'Fisher scientific',\n",
       "  'lot_number': '146981'},\n",
       " 'ethanol': {'minimum_volume_fraction': 0.1,\n",
       "  'maximum_volume_fraction': 0.1,\n",
       "  'density': 0.789,\n",
       "  'molecular_weight': 46.07,\n",
       "  'stock_concentration': 55.51,\n",
       "  'stock_source': 'Benson aliquot from MolES',\n",
       "  'manufacturer': 'nan',\n",
       "  'lot_number': 'nan'}}"
      ]
     },
     "execution_count": 3,
     "metadata": {},
     "output_type": "execute_result"
    }
   ],
   "source": [
    "synth_constants"
   ]
  },
  {
   "cell_type": "code",
   "execution_count": 4,
   "id": "2e32f5c1-9ea1-4f45-8563-46c605f98a8c",
   "metadata": {},
   "outputs": [],
   "source": [
    "bounds = {}\n",
    "for reactant, consts in synth_constants.items():\n",
    "    bound = (consts['minimum_volume_fraction'], consts['maximum_volume_fraction'])\n",
    "    bounds[reactant] = bound"
   ]
  },
  {
   "cell_type": "code",
   "execution_count": 5,
   "id": "c0e4d31f-1236-4000-b24c-39a2e9490375",
   "metadata": {},
   "outputs": [],
   "source": [
    "bounds['ethanol'] = (0,1)"
   ]
  },
  {
   "cell_type": "code",
   "execution_count": 6,
   "id": "b2ec39e7-fffb-40b9-aa05-aa2d2fe7c083",
   "metadata": {},
   "outputs": [],
   "source": [
    "synth_data = pd.read_csv('synth_table_with_rmsedist_10_28_24.csv')"
   ]
  },
  {
   "cell_type": "code",
   "execution_count": 7,
   "id": "a112fde8-2b92-409b-ae22-07b0adc84a69",
   "metadata": {},
   "outputs": [],
   "source": [
    "synth_data = synth_data[~synth_data['rmse_log_distance'].isna()]"
   ]
  },
  {
   "cell_type": "code",
   "execution_count": 8,
   "id": "97884c0d-397c-4b1a-8d57-5a0ecf225c97",
   "metadata": {},
   "outputs": [],
   "source": [
    "x_data = synth_data[['teos_vol_frac', 'ammonia_vol_frac', 'water_vol_frac']]\n",
    "y_data = synth_data['rmse_log_distance']"
   ]
  },
  {
   "cell_type": "code",
   "execution_count": 9,
   "id": "6049ee04-97a7-47b4-bebc-60f596c2d5ba",
   "metadata": {},
   "outputs": [
    {
     "data": {
      "text/html": [
       "<div>\n",
       "<style scoped>\n",
       "    .dataframe tbody tr th:only-of-type {\n",
       "        vertical-align: middle;\n",
       "    }\n",
       "\n",
       "    .dataframe tbody tr th {\n",
       "        vertical-align: top;\n",
       "    }\n",
       "\n",
       "    .dataframe thead th {\n",
       "        text-align: right;\n",
       "    }\n",
       "</style>\n",
       "<table border=\"1\" class=\"dataframe\">\n",
       "  <thead>\n",
       "    <tr style=\"text-align: right;\">\n",
       "      <th></th>\n",
       "      <th>teos_vol_frac</th>\n",
       "      <th>ammonia_vol_frac</th>\n",
       "      <th>water_vol_frac</th>\n",
       "    </tr>\n",
       "  </thead>\n",
       "  <tbody>\n",
       "    <tr>\n",
       "      <th>2</th>\n",
       "      <td>0.011765</td>\n",
       "      <td>0.037647</td>\n",
       "      <td>0.028824</td>\n",
       "    </tr>\n",
       "    <tr>\n",
       "      <th>3</th>\n",
       "      <td>0.106408</td>\n",
       "      <td>0.005291</td>\n",
       "      <td>0.134039</td>\n",
       "    </tr>\n",
       "    <tr>\n",
       "      <th>4</th>\n",
       "      <td>0.058789</td>\n",
       "      <td>0.030570</td>\n",
       "      <td>0.008818</td>\n",
       "    </tr>\n",
       "    <tr>\n",
       "      <th>5</th>\n",
       "      <td>0.124191</td>\n",
       "      <td>0.007063</td>\n",
       "      <td>0.035903</td>\n",
       "    </tr>\n",
       "    <tr>\n",
       "      <th>6</th>\n",
       "      <td>0.059377</td>\n",
       "      <td>0.058789</td>\n",
       "      <td>0.019400</td>\n",
       "    </tr>\n",
       "    <tr>\n",
       "      <th>...</th>\n",
       "      <td>...</td>\n",
       "      <td>...</td>\n",
       "      <td>...</td>\n",
       "    </tr>\n",
       "    <tr>\n",
       "      <th>119</th>\n",
       "      <td>0.066489</td>\n",
       "      <td>0.037489</td>\n",
       "      <td>0.139971</td>\n",
       "    </tr>\n",
       "    <tr>\n",
       "      <th>120</th>\n",
       "      <td>0.086145</td>\n",
       "      <td>0.093377</td>\n",
       "      <td>0.021210</td>\n",
       "    </tr>\n",
       "    <tr>\n",
       "      <th>121</th>\n",
       "      <td>0.140118</td>\n",
       "      <td>0.044781</td>\n",
       "      <td>0.029737</td>\n",
       "    </tr>\n",
       "    <tr>\n",
       "      <th>122</th>\n",
       "      <td>0.083087</td>\n",
       "      <td>0.100497</td>\n",
       "      <td>0.139695</td>\n",
       "    </tr>\n",
       "    <tr>\n",
       "      <th>123</th>\n",
       "      <td>0.055983</td>\n",
       "      <td>0.019682</td>\n",
       "      <td>0.127799</td>\n",
       "    </tr>\n",
       "  </tbody>\n",
       "</table>\n",
       "<p>99 rows × 3 columns</p>\n",
       "</div>"
      ],
      "text/plain": [
       "     teos_vol_frac  ammonia_vol_frac  water_vol_frac\n",
       "2         0.011765          0.037647        0.028824\n",
       "3         0.106408          0.005291        0.134039\n",
       "4         0.058789          0.030570        0.008818\n",
       "5         0.124191          0.007063        0.035903\n",
       "6         0.059377          0.058789        0.019400\n",
       "..             ...               ...             ...\n",
       "119       0.066489          0.037489        0.139971\n",
       "120       0.086145          0.093377        0.021210\n",
       "121       0.140118          0.044781        0.029737\n",
       "122       0.083087          0.100497        0.139695\n",
       "123       0.055983          0.019682        0.127799\n",
       "\n",
       "[99 rows x 3 columns]"
      ]
     },
     "execution_count": 9,
     "metadata": {},
     "output_type": "execute_result"
    }
   ],
   "source": [
    "x_data"
   ]
  },
  {
   "cell_type": "markdown",
   "id": "a3262444-e04d-4826-8a33-386b96413f0e",
   "metadata": {},
   "source": [
    "## Data normalization etc."
   ]
  },
  {
   "cell_type": "code",
   "execution_count": 10,
   "id": "099db318-320b-4f86-92f4-4f2e5f20cfc5",
   "metadata": {},
   "outputs": [],
   "source": [
    "y_data[y_data ==50] = 5"
   ]
  },
  {
   "cell_type": "code",
   "execution_count": 11,
   "id": "f963f39c-30ea-4d7f-9edd-275740353194",
   "metadata": {},
   "outputs": [],
   "source": [
    "y_data_norm = normalize(torch.tensor(y_data.to_numpy()), torch.tensor([[0], [5]]))"
   ]
  },
  {
   "cell_type": "code",
   "execution_count": 12,
   "id": "6613e5b4-6220-43b9-bd79-ce666047b67e",
   "metadata": {},
   "outputs": [],
   "source": [
    "y_data_norm = y_data_norm.reshape((-1,1))"
   ]
  },
  {
   "cell_type": "code",
   "execution_count": 13,
   "id": "379488be-374c-46ac-a4f1-576e353a6dbb",
   "metadata": {},
   "outputs": [],
   "source": [
    "bounds_torch = torch.tensor([bounds['TEOS'], bounds['ammonia'], bounds['water']]).transpose(-1, -2)"
   ]
  },
  {
   "cell_type": "code",
   "execution_count": 14,
   "id": "5f559c65-d466-4c3f-877e-48e57626ef64",
   "metadata": {},
   "outputs": [],
   "source": [
    "x_data_torch = torch.tensor(x_data.to_numpy())"
   ]
  },
  {
   "cell_type": "code",
   "execution_count": 15,
   "id": "45c63042-960e-4d50-9506-9e37347c1035",
   "metadata": {},
   "outputs": [],
   "source": [
    "x_data_norm = normalize(x_data_torch, bounds_torch)"
   ]
  },
  {
   "cell_type": "code",
   "execution_count": null,
   "id": "03eecf05-1976-41ee-8bbc-9f5b868bf329",
   "metadata": {},
   "outputs": [],
   "source": []
  },
  {
   "cell_type": "code",
   "execution_count": 16,
   "id": "93cbd5dd-5fff-4a78-91e8-8b47601ec3d0",
   "metadata": {},
   "outputs": [],
   "source": [
    "tsne = TSNE()"
   ]
  },
  {
   "cell_type": "code",
   "execution_count": 17,
   "id": "b1e5265a-8171-40fc-be06-2716cca4fd95",
   "metadata": {},
   "outputs": [],
   "source": [
    "x_tsne = tsne.fit_transform(x_data_norm)"
   ]
  },
  {
   "cell_type": "code",
   "execution_count": 18,
   "id": "e052ed09-56a8-4c18-96fa-be5a1a4d7bfb",
   "metadata": {},
   "outputs": [
    {
     "data": {
      "text/plain": [
       "Text(0.5, 1.0, 'TSNE plot of initial data')"
      ]
     },
     "execution_count": 18,
     "metadata": {},
     "output_type": "execute_result"
    },
    {
     "data": {
      "image/png": "[encoded data removed]",
      "text/plain": [
       "<Figure size 600x600 with 1 Axes>"
      ]
     },
     "metadata": {},
     "output_type": "display_data"
    }
   ],
   "source": [
    "fig, ax = plt.subplots(figsize = (6,6))\n",
    "ax.scatter(x_tsne[:,0], x_tsne[:,1], c = y_data, cmap = plt.cm.coolwarm)\n",
    "ax.set_title(\"TSNE plot of initial data\")\n"
   ]
  },
  {
   "cell_type": "markdown",
   "id": "14e643f1-1b95-4891-a55a-d6131d58d242",
   "metadata": {},
   "source": [
    "## Set up model"
   ]
  },
  {
   "cell_type": "code",
   "execution_count": 20,
   "id": "b54a9d53-0029-4fcc-850b-67b679ca14f8",
   "metadata": {},
   "outputs": [],
   "source": [
    "nu = 5/2"
   ]
  },
  {
   "cell_type": "code",
   "execution_count": 21,
   "id": "e54a7d51-960f-4ce4-ae89-a10b2d0c3917",
   "metadata": {},
   "outputs": [],
   "source": [
    "kernel = MaternKernel(nu = nu, ard_num_dims = 3)\n",
    "gp_model = SingleTaskGP(x_data_norm, y_data_norm, outcome_transform=Standardize(m=1), covar_module=kernel).to(x_data_norm)\n",
    "\n",
    "mll = ExactMarginalLogLikelihood(gp_model.likelihood, gp_model)"
   ]
  },
  {
   "cell_type": "code",
   "execution_count": 22,
   "id": "9d75bc62-a99f-404c-ae91-710a49f562ab",
   "metadata": {},
   "outputs": [
    {
     "data": {
      "text/plain": [
       "ExactMarginalLogLikelihood(\n",
       "  (likelihood): GaussianLikelihood(\n",
       "    (noise_covar): HomoskedasticNoise(\n",
       "      (noise_prior): LogNormalPrior()\n",
       "      (raw_noise_constraint): GreaterThan(1.000E-04)\n",
       "    )\n",
       "  )\n",
       "  (model): SingleTaskGP(\n",
       "    (likelihood): GaussianLikelihood(\n",
       "      (noise_covar): HomoskedasticNoise(\n",
       "        (noise_prior): LogNormalPrior()\n",
       "        (raw_noise_constraint): GreaterThan(1.000E-04)\n",
       "      )\n",
       "    )\n",
       "    (mean_module): ConstantMean()\n",
       "    (covar_module): MaternKernel(\n",
       "      (raw_lengthscale_constraint): Positive()\n",
       "    )\n",
       "    (outcome_transform): Standardize()\n",
       "  )\n",
       ")"
      ]
     },
     "execution_count": 22,
     "metadata": {},
     "output_type": "execute_result"
    }
   ],
   "source": [
    "fit_gpytorch_mll(mll)"
   ]
  },
  {
   "cell_type": "code",
   "execution_count": 23,
   "id": "3c305854-e3e6-4541-bfa8-9a266e3faf09",
   "metadata": {},
   "outputs": [
    {
     "data": {
      "text/plain": [
       "ExactMarginalLogLikelihood(\n",
       "  (likelihood): GaussianLikelihood(\n",
       "    (noise_covar): HomoskedasticNoise(\n",
       "      (noise_prior): LogNormalPrior()\n",
       "      (raw_noise_constraint): GreaterThan(1.000E-04)\n",
       "    )\n",
       "  )\n",
       "  (model): SingleTaskGP(\n",
       "    (likelihood): GaussianLikelihood(\n",
       "      (noise_covar): HomoskedasticNoise(\n",
       "        (noise_prior): LogNormalPrior()\n",
       "        (raw_noise_constraint): GreaterThan(1.000E-04)\n",
       "      )\n",
       "    )\n",
       "    (mean_module): ConstantMean()\n",
       "    (covar_module): MaternKernel(\n",
       "      (raw_lengthscale_constraint): Positive()\n",
       "    )\n",
       "    (outcome_transform): Standardize()\n",
       "  )\n",
       ")"
      ]
     },
     "execution_count": 23,
     "metadata": {},
     "output_type": "execute_result"
    }
   ],
   "source": [
    "mll"
   ]
  },
  {
   "cell_type": "code",
   "execution_count": 24,
   "id": "445f7a58-2480-4ead-b4c5-07d68571c10f",
   "metadata": {},
   "outputs": [],
   "source": [
    "posterior = gp_model.posterior(x_data_norm)"
   ]
  },
  {
   "cell_type": "code",
   "execution_count": 25,
   "id": "184d8406-8654-4cdf-935e-589d63cc9fa6",
   "metadata": {},
   "outputs": [],
   "source": [
    "mean = posterior.mean.detach().reshape(-1).tolist()"
   ]
  },
  {
   "cell_type": "code",
   "execution_count": 26,
   "id": "c3ba0d4d-5750-441f-b038-a4699819f177",
   "metadata": {},
   "outputs": [],
   "source": [
    "std = posterior.variance.detach().reshape(-1).tolist()"
   ]
  },
  {
   "cell_type": "code",
   "execution_count": 27,
   "id": "1b7d26dd-98c5-4ed6-9310-8502e755f33a",
   "metadata": {},
   "outputs": [],
   "source": [
    "r2 = metrics.r2_score(y_data_norm, mean)"
   ]
  },
  {
   "cell_type": "code",
   "execution_count": 28,
   "id": "b4cb71a3-45df-4137-b287-3daa191fdc53",
   "metadata": {},
   "outputs": [
    {
     "name": "stdout",
     "output_type": "stream",
     "text": [
      "r2 score:  0.7760648535591651\n"
     ]
    }
   ],
   "source": [
    "print('r2 score: ', r2)"
   ]
  },
  {
   "cell_type": "code",
   "execution_count": 29,
   "id": "87d62391-6e52-4ba8-a263-4af67a900e4d",
   "metadata": {},
   "outputs": [
    {
     "data": {
      "text/plain": [
       "Text(0, 0.5, 'GPR fit')"
      ]
     },
     "execution_count": 29,
     "metadata": {},
     "output_type": "execute_result"
    },
    {
     "data": {
      "image/png": "[encoded data removed]",
      "text/plain": [
       "<Figure size 600x600 with 1 Axes>"
      ]
     },
     "metadata": {},
     "output_type": "display_data"
    }
   ],
   "source": [
    "\n",
    "fig, ax = plt.subplots(figsize = (6,6))\n",
    "ax.errorbar(y_data_norm, mean, yerr=std, ls = '', marker = '.')\n",
    "ax.plot(y_data_norm, y_data_norm)\n",
    "ax.set_xlabel('True')\n",
    "ax.set_ylabel('GPR fit')\n"
   ]
  },
  {
   "cell_type": "code",
   "execution_count": 30,
   "id": "3568afb3-6148-45d5-98f2-4d7b003816ca",
   "metadata": {},
   "outputs": [
    {
     "data": {
      "text/plain": [
       "MaternKernel(\n",
       "  (raw_lengthscale_constraint): Positive()\n",
       ")"
      ]
     },
     "execution_count": 30,
     "metadata": {},
     "output_type": "execute_result"
    }
   ],
   "source": [
    "kernel"
   ]
  },
  {
   "cell_type": "code",
   "execution_count": 31,
   "id": "944bdf06-adb3-4197-926b-f2520504d92e",
   "metadata": {},
   "outputs": [
    {
     "data": {
      "text/plain": [
       "tensor([[0.2027, 0.3214, 0.4225]], grad_fn=<SoftplusBackward0>)"
      ]
     },
     "execution_count": 31,
     "metadata": {},
     "output_type": "execute_result"
    }
   ],
   "source": [
    "kernel.lengthscale"
   ]
  },
  {
   "cell_type": "code",
   "execution_count": 32,
   "id": "6b0f129b-df2f-4a04-b5d0-6c80b2d99e1e",
   "metadata": {},
   "outputs": [
    {
     "data": {
      "text/plain": [
       "1e-06"
      ]
     },
     "execution_count": 32,
     "metadata": {},
     "output_type": "execute_result"
    }
   ],
   "source": [
    "kernel.eps"
   ]
  },
  {
   "cell_type": "markdown",
   "id": "b835233b-557e-478c-b888-3963f03220fe",
   "metadata": {},
   "source": [
    "### Set up BO things"
   ]
  },
  {
   "cell_type": "code",
   "execution_count": 35,
   "id": "c2b88780-b2e0-4db5-b816-4708e026f3b8",
   "metadata": {},
   "outputs": [],
   "source": [
    "sampler = SobolQMCNormalSampler(torch.Size([1024]))"
   ]
  },
  {
   "cell_type": "code",
   "execution_count": null,
   "id": "3fd40d3f-fa06-4624-b008-414d32c660fc",
   "metadata": {},
   "outputs": [],
   "source": [
    "acqf = qLogNoisyExpectedImprovement("
   ]
  }
 ],
 "metadata": {
  "kernelspec": {
   "display_name": "Python 3 (ipykernel)",
   "language": "python",
   "name": "python3"
  },
  "language_info": {
   "codemirror_mode": {
    "name": "ipython",
    "version": 3
   },
   "file_extension": ".py",
   "mimetype": "text/x-python",
   "name": "python",
   "nbconvert_exporter": "python",
   "pygments_lexer": "ipython3",
   "version": "3.12.7"
  }
 },
 "nbformat": 4,
 "nbformat_minor": 5
}
