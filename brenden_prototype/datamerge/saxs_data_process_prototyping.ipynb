{
 "cells": [
  {
   "cell_type": "code",
   "execution_count": 1,
   "id": "6aa7eb43-1807-4a08-b67c-97dc1e85fa18",
   "metadata": {
    "tags": []
   },
   "outputs": [],
   "source": [
    "import pandas as pd\n",
    "import numpy as np\n",
    "import matplotlib.pyplot as plt"
   ]
  },
  {
   "cell_type": "markdown",
   "id": "e4da5501-f958-4131-8543-5842cae42983",
   "metadata": {},
   "source": [
    "## 1. Load data"
   ]
  },
  {
   "cell_type": "code",
   "execution_count": 2,
   "id": "53a9af1d-040d-4d2d-9677-edf23fcb012e",
   "metadata": {
    "tags": []
   },
   "outputs": [],
   "source": [
    "def numerify(var):\n",
    "    \"\"\"\n",
    "    Cast an object as an int or float if possible. Otherwise return unmodified\n",
    "    \"\"\"\n",
    "    \n",
    "    if isinstance(var, str):\n",
    "        try:\n",
    "            var = int(var)\n",
    "\n",
    "        except:\n",
    "            try:\n",
    "                var = float(var)\n",
    "            except:\n",
    "                pass\n",
    "    else:\n",
    "        pass\n",
    "            \n",
    "    return var"
   ]
  },
  {
   "cell_type": "code",
   "execution_count": 3,
   "id": "5a945a17-8cc7-4ec0-9148-1fbdcd144f78",
   "metadata": {},
   "outputs": [],
   "source": [
    "#write a nice data loader\n",
    "#should return metadata as a dict, data in a pandas df\n",
    "\n",
    "\n",
    "def read_1D_data(fp):\n",
    "    \"\"\"\n",
    "    Read a 1D Xenocs data .dat file\n",
    "    \"\"\"\n",
    "    metadata = {}\n",
    "    q = []\n",
    "    I = []\n",
    "    sig = []\n",
    "    header_count = 0\n",
    "\n",
    "    in_data = False # flag for if we are read into data yet\n",
    "\n",
    "    with open(fp, 'rt') as f:\n",
    "        for line in f:\n",
    "            if not in_data:\n",
    "                if line[:2] == '##': #metadata section header \n",
    "                    header_count +=1\n",
    "                    continue\n",
    "                elif line[:2] == '# ':\n",
    "                    items = line.split()\n",
    "                    metadata[items[1]] = numerify(items[2])\n",
    "\n",
    "                elif line[0] == 'q' and header_count == 2:\n",
    "                    in_data = True\n",
    "            elif in_data:\n",
    "                vals = line.split()\n",
    "                q.append(numerify(vals[0]))\n",
    "                I.append(numerify(vals[1]))\n",
    "                sig.append(numerify(vals[2]))\n",
    "\n",
    "\n",
    "    data = pd.DataFrame({'q':q, 'I':I, 'sig':sig})\n",
    "    \n",
    "    return data, metadata\n",
    "                \n",
    "\n",
    "        "
   ]
  },
  {
   "cell_type": "code",
   "execution_count": 32,
   "id": "f1f363f5-ea91-4252-9ce0-e22bfbd8d8a0",
   "metadata": {},
   "outputs": [],
   "source": [
    "esaxs_data, esaxs_metadata = read_1D_data('data/Data_0_00002.dat')\n",
    "saxs_data, saxs_metadata = read_1D_data('data/Data_0_00016.dat')\n",
    "maxs_data, maxs_metadata = read_1D_data('data/Data_0_00030.dat')\n",
    "\n",
    "esaxs_bkg_data, esaxs_bkg_metadata = read_1D_data('data/Data_0_00012.dat')\n",
    "saxs_bkg_data, saxs_bkg_metadata = read_1D_data('data/Data_0_00026.dat')\n",
    "maxs_bkg_data, maxs_bkg_metadata = read_1D_data('data/Data_0_00040.dat')"
   ]
  },
  {
   "cell_type": "markdown",
   "id": "a93710e1-8828-4787-ae00-95e1db76526d",
   "metadata": {},
   "source": [
    "## 2. Subtract background"
   ]
  },
  {
   "cell_type": "code",
   "execution_count": 33,
   "id": "d44ed04c-ac27-423c-af51-aca06bb67429",
   "metadata": {
    "tags": []
   },
   "outputs": [],
   "source": [
    "data1 = esaxs_data\n",
    "data2 = esaxs_bkg_data\n",
    "\n",
    "#scale data2 onto data1\n",
    "\n",
    "scale_qmin = 1e-4\n",
    "scale_qmax = 1e-3\n",
    "\n",
    "def scale_data(data1, data2, scale_qmin, scale_qmax):\n",
    "    \"\"\"\n",
    "    scale data2 onto data1 using a scale factor calculated from the difference in integrals of data1 and data2 over the range scale_qmin -> scale_qmax\n",
    "    \"\"\"\n",
    "\n",
    "    # get yvals for each dataset\n",
    "    inrange_data1 = data1[data1['q'].between(scale_qmin, scale_qmax, inclusive = 'both')]\n",
    "    inrange_data2 = data2[data2['q'].between(scale_qmin, scale_qmax, inclusive = 'both')]\n",
    "\n",
    "    assert np.isclose(inrange_data1['q'].iloc[0], inrange_data2['q'].iloc[0])\n",
    "    assert np.isclose(inrange_data1['q'].iloc[-1], inrange_data2['q'].iloc[-1])\n",
    "\n",
    "\n",
    "    x1 = inrange_data1['q'].to_numpy()\n",
    "    x2 = inrange_data2['q'].to_numpy()\n",
    "    y1 = inrange_data1['I'].to_numpy()\n",
    "    y2 = inrange_data2['I'].to_numpy()\n",
    "    #check for nans in y values\n",
    "\n",
    "    #trapezoid rule integrate\n",
    "    scale1 = np.trapz(y1, x1)/(x1[-1] - x1[0])\n",
    "    scale2 = np.trapz(y2, x2)/(x2[-1] - x2[0])\n",
    "\n",
    "    scale_factor = scale1/scale2\n",
    "\n",
    "\n",
    "    # scale data2 with scale factor\n",
    "    data2_out = data2.copy()\n",
    "\n",
    "    data2_out['I'] = data2['I']*scale_factor\n",
    "\n",
    "    return data2_out\n"
   ]
  },
  {
   "cell_type": "code",
   "execution_count": 36,
   "id": "cc4abc20-7c80-43cc-b240-ba4d63c5391d",
   "metadata": {
    "tags": []
   },
   "outputs": [],
   "source": [
    "#run subtraction with scaled data\n",
    "\n",
    "data2_scaled = scale_data(data1, data2, scale_qmin, scale_qmax)\n",
    "\n",
    "# check that q values line up for everything\n",
    "assert np.isclose(data1['q'].to_numpy(), data2_scaled['q'].to_numpy()).all()\n",
    "# once we get fancier look into allowance for slop or interpolation options. For now throw out anything not compliant ^^\n",
    "\n",
    "subtracted_data = data1.copy()\n",
    "\n",
    "subtracted_I = data1['I'] - data2_scaled['I']\n",
    "#get rid of negative values\n",
    "#subtracted_I = np.delete(subtracted_I, subtracted_I < 0)\n",
    "#np.delete(\n",
    "\n",
    "subtracted_data['I'] = subtracted_I"
   ]
  },
  {
   "cell_type": "code",
   "execution_count": 37,
   "id": "3dd6cd85-bbd4-4c6c-80ab-3b8e88f0acde",
   "metadata": {
    "tags": []
   },
   "outputs": [
    {
     "data": {
      "text/plain": [
       "[<matplotlib.lines.Line2D at 0x7fd2b6f018d0>]"
      ]
     },
     "execution_count": 37,
     "metadata": {},
     "output_type": "execute_result"
    },
    {
     "data": {
      "image/png": "[encoded data removed]",
      "text/plain": [
       "<Figure size 640x480 with 1 Axes>"
      ]
     },
     "metadata": {},
     "output_type": "display_data"
    }
   ],
   "source": [
    "plt.loglog(data1['q'], data1['I'])\n",
    "plt.loglog(data2_scaled['q'], data2_scaled['I'])"
   ]
  },
  {
   "cell_type": "code",
   "execution_count": 38,
   "id": "f0c5ae44-223d-4395-8088-1fcbab1fa089",
   "metadata": {
    "tags": []
   },
   "outputs": [
    {
     "data": {
      "text/plain": [
       "[<matplotlib.lines.Line2D at 0x7fd2b6ddb610>]"
      ]
     },
     "execution_count": 38,
     "metadata": {},
     "output_type": "execute_result"
    },
    {
     "data": {
      "image/png": "[encoded data removed]",
      "text/plain": [
       "<Figure size 640x480 with 1 Axes>"
      ]
     },
     "metadata": {},
     "output_type": "display_data"
    }
   ],
   "source": [
    "plt.loglog(subtracted_data['q'], subtracted_data['I'])"
   ]
  },
  {
   "cell_type": "code",
   "execution_count": null,
   "id": "30df913e-87ca-4a34-a96b-94b040b86e5e",
   "metadata": {},
   "outputs": [],
   "source": []
  },
  {
   "cell_type": "code",
   "execution_count": null,
   "id": "98ab8646-fd95-4daf-b054-8bdc862e8918",
   "metadata": {},
   "outputs": [],
   "source": []
  },
  {
   "cell_type": "markdown",
   "id": "8eb9facc-8fc7-413f-9057-98d635896812",
   "metadata": {},
   "source": [
    "## 3. Data merge"
   ]
  },
  {
   "cell_type": "code",
   "execution_count": null,
   "id": "06aabe6a-64a7-4749-8695-0e7c5fbecfa8",
   "metadata": {},
   "outputs": [],
   "source": [
    "#1. Figure out 'good' range for each data\n",
    "\n",
    "#low end: this is hard. probably use hard-coded qmin for now\n",
    "\n",
    "#upper end: do some sort of noise quantification. Maybe max-min over last 3 data points < 5% of average value? \n",
    "\n",
    "# 2. determine overlapping range for the 2 data sets\n",
    "\n",
    "#3. Looking within overlapping range, apply rules to figure something out\n",
    "\n",
    "    # - slopes should match\n",
    "    # - values should be close \n",
    "    \n",
    "    "
   ]
  },
  {
   "cell_type": "code",
   "execution_count": 42,
   "id": "8df9f288-c753-41a5-b97d-b4894af0bf7e",
   "metadata": {
    "tags": []
   },
   "outputs": [],
   "source": [
    "l = [1,2,3]"
   ]
  },
  {
   "cell_type": "code",
   "execution_count": 45,
   "id": "57632897-a6f6-48a4-9906-5b3425443874",
   "metadata": {
    "tags": []
   },
   "outputs": [
    {
     "data": {
      "text/plain": [
       "1"
      ]
     },
     "execution_count": 45,
     "metadata": {},
     "output_type": "execute_result"
    }
   ],
   "source": [
    "l.pop(0)"
   ]
  },
  {
   "cell_type": "code",
   "execution_count": 46,
   "id": "efd514a0-1e2f-4d4e-b8a7-c2f3defd4df0",
   "metadata": {
    "tags": []
   },
   "outputs": [
    {
     "data": {
      "text/plain": [
       "[2]"
      ]
     },
     "execution_count": 46,
     "metadata": {},
     "output_type": "execute_result"
    }
   ],
   "source": [
    "l"
   ]
  },
  {
   "cell_type": "code",
   "execution_count": 65,
   "id": "9ec1b90b-429e-4d8b-b70d-22e8706bac09",
   "metadata": {
    "tags": []
   },
   "outputs": [
    {
     "data": {
      "text/plain": [
       "[0.0, 0.1998208856884082]"
      ]
     },
     "execution_count": 65,
     "metadata": {},
     "output_type": "execute_result"
    }
   ],
   "source": [
    "last_3_Is"
   ]
  },
  {
   "cell_type": "code",
   "execution_count": 82,
   "id": "bd22b91c-ecad-4895-ae4a-0294913d5177",
   "metadata": {
    "tags": []
   },
   "outputs": [
    {
     "name": "stdout",
     "output_type": "stream",
     "text": [
      "5\n"
     ]
    },
    {
     "name": "stderr",
     "output_type": "stream",
     "text": [
      "/tmp/ipykernel_5466/1559568081.py:24: RuntimeWarning: divide by zero encountered in log\n",
      "  Irange = np.log(Imax) - np.log(Imin)\n",
      "/tmp/ipykernel_5466/1559568081.py:22: RuntimeWarning: divide by zero encountered in log\n",
      "  Iavg = np.log(np.mean(last_3_Is))\n",
      "/tmp/ipykernel_5466/1559568081.py:24: RuntimeWarning: invalid value encountered in scalar subtract\n",
      "  Irange = np.log(Imax) - np.log(Imin)\n"
     ]
    }
   ],
   "source": [
    "#iterate over values in I\n",
    "last_3_Is = []\n",
    "variance = []\n",
    "avg = []\n",
    "ranges = []\n",
    "\n",
    "\n",
    "for i, row in data1.iterrows():\n",
    "    I = row['I']\n",
    "    if i < 5:\n",
    "        last_3_Is.append(I)\n",
    "        continue\n",
    "    else:\n",
    "        \n",
    "        if i == 100:\n",
    "            print(len(last_3_Is))\n",
    "        \n",
    "        last_3_Is.append(I)\n",
    "        \n",
    "        Imin = min(last_3_Is)\n",
    "        Imax = max(last_3_Is)\n",
    "        Iavg = np.log(np.mean(last_3_Is))\n",
    "        \n",
    "        Irange = np.log(Imax) - np.log(Imin)\n",
    "        avg.append(Iavg)\n",
    "        ranges.append(Iavg)\n",
    "        \n",
    "        var = Irange/Iavg\n",
    "        \n",
    "        variance.append(var)\n",
    "        last_3_Is.pop(0)\n",
    "        \n",
    "        \n",
    "        \n",
    "\n",
    "# For last 3 values, get min and max val\n",
    "\n",
    "# min-max should be less than x % of average of last 3 values \n"
   ]
  },
  {
   "cell_type": "code",
   "execution_count": 83,
   "id": "ec61d8a8-6d22-4454-823d-37223bb6b8ac",
   "metadata": {
    "tags": []
   },
   "outputs": [
    {
     "data": {
      "text/plain": [
       "inf"
      ]
     },
     "execution_count": 83,
     "metadata": {},
     "output_type": "execute_result"
    }
   ],
   "source": [
    "Irange"
   ]
  },
  {
   "cell_type": "code",
   "execution_count": 84,
   "id": "954171be-92ef-4613-bde3-af1d4894ecec",
   "metadata": {
    "tags": []
   },
   "outputs": [
    {
     "data": {
      "text/plain": [
       "-3.4020933544839136"
      ]
     },
     "execution_count": 84,
     "metadata": {},
     "output_type": "execute_result"
    }
   ],
   "source": [
    "Iavg"
   ]
  },
  {
   "cell_type": "code",
   "execution_count": 85,
   "id": "d49e1acf-92ab-43e9-aa97-782a253d7483",
   "metadata": {
    "tags": []
   },
   "outputs": [
    {
     "data": {
      "text/plain": [
       "[<matplotlib.lines.Line2D at 0x7fd2b2c58d50>]"
      ]
     },
     "execution_count": 85,
     "metadata": {},
     "output_type": "execute_result"
    },
    {
     "data": {
      "image/png": "[encoded data removed]",
      "text/plain": [
       "<Figure size 640x480 with 1 Axes>"
      ]
     },
     "metadata": {},
     "output_type": "display_data"
    }
   ],
   "source": [
    "plt.plot(variance)"
   ]
  },
  {
   "cell_type": "code",
   "execution_count": 86,
   "id": "f09b66fb-9052-4d5b-b17c-cb6b1d3296ee",
   "metadata": {
    "tags": []
   },
   "outputs": [
    {
     "data": {
      "text/plain": [
       "[<matplotlib.lines.Line2D at 0x7fd2b2a77dd0>]"
      ]
     },
     "execution_count": 86,
     "metadata": {},
     "output_type": "execute_result"
    },
    {
     "data": {
      "image/png": "[encoded data removed]",
      "text/plain": [
       "<Figure size 640x480 with 1 Axes>"
      ]
     },
     "metadata": {},
     "output_type": "display_data"
    }
   ],
   "source": [
    "plt.semilogy(variance)"
   ]
  },
  {
   "cell_type": "code",
   "execution_count": 81,
   "id": "9214f715-da81-4e49-8eeb-63268284b533",
   "metadata": {},
   "outputs": [
    {
     "data": {
      "text/plain": [
       "[<matplotlib.lines.Line2D at 0x7fd2b32c8f50>]"
      ]
     },
     "execution_count": 81,
     "metadata": {},
     "output_type": "execute_result"
    },
    {
     "data": {
      "image/png": "[encoded data removed]",
      "text/plain": [
       "<Figure size 640x480 with 1 Axes>"
      ]
     },
     "metadata": {},
     "output_type": "display_data"
    }
   ],
   "source": [
    "plt.loglog(data1['q'], data1['I'], ls = ' ', marker = '.')"
   ]
  },
  {
   "cell_type": "code",
   "execution_count": null,
   "id": "28e88fd5-d2fa-4087-8e28-5653015b2c5a",
   "metadata": {},
   "outputs": [],
   "source": []
  }
 ],
 "metadata": {
  "kernelspec": {
   "display_name": "Python 3 (ipykernel)",
   "language": "python",
   "name": "python3"
  },
  "language_info": {
   "codemirror_mode": {
    "name": "ipython",
    "version": 3
   },
   "file_extension": ".py",
   "mimetype": "text/x-python",
   "name": "python",
   "nbconvert_exporter": "python",
   "pygments_lexer": "ipython3",
   "version": "3.11.5"
  }
 },
 "nbformat": 4,
 "nbformat_minor": 5
}
