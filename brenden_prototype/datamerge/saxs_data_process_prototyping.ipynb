{
 "cells": [
  {
   "cell_type": "code",
   "execution_count": 1,
   "id": "6aa7eb43-1807-4a08-b67c-97dc1e85fa18",
   "metadata": {
    "tags": []
   },
   "outputs": [],
   "source": [
    "import pandas as pd\n",
    "import numpy as np\n",
    "import matplotlib.pyplot as plt"
   ]
  },
  {
   "cell_type": "markdown",
   "id": "e4da5501-f958-4131-8543-5842cae42983",
   "metadata": {},
   "source": [
    "## 1. Load data"
   ]
  },
  {
   "cell_type": "code",
   "execution_count": 2,
   "id": "53a9af1d-040d-4d2d-9677-edf23fcb012e",
   "metadata": {
    "tags": []
   },
   "outputs": [],
   "source": [
    "def numerify(var):\n",
    "    \"\"\"\n",
    "    Cast an object as an int or float if possible. Otherwise return unmodified\n",
    "    \"\"\"\n",
    "    \n",
    "    if isinstance(var, str):\n",
    "        try:\n",
    "            var = int(var)\n",
    "\n",
    "        except:\n",
    "            try:\n",
    "                var = float(var)\n",
    "            except:\n",
    "                pass\n",
    "    else:\n",
    "        pass\n",
    "            \n",
    "    return var"
   ]
  },
  {
   "cell_type": "code",
   "execution_count": 90,
   "id": "0b26bc3d-d2eb-42dd-a024-4f07c2f7ac1b",
   "metadata": {
    "tags": []
   },
   "outputs": [
    {
     "data": {
      "text/plain": [
       "pandas.core.frame.DataFrame"
      ]
     },
     "execution_count": 90,
     "metadata": {},
     "output_type": "execute_result"
    }
   ],
   "source": [
    "type(cleaned_esaxs)"
   ]
  },
  {
   "cell_type": "code",
   "execution_count": 3,
   "id": "5a945a17-8cc7-4ec0-9148-1fbdcd144f78",
   "metadata": {},
   "outputs": [],
   "source": [
    "#write a nice data loader\n",
    "#should return metadata as a dict, data in a pandas df\n",
    "\n",
    "\n",
    "def read_1D_data(fp):\n",
    "    \"\"\"\n",
    "    Read a 1D Xenocs data .dat file\n",
    "    \"\"\"\n",
    "    metadata = {}\n",
    "    q = []\n",
    "    I = []\n",
    "    sig = []\n",
    "    header_count = 0\n",
    "\n",
    "    in_data = False # flag for if we are read into data yet\n",
    "\n",
    "    with open(fp, 'rt') as f:\n",
    "        for line in f:\n",
    "            if not in_data:\n",
    "                if line[:2] == '##': #metadata section header \n",
    "                    header_count +=1\n",
    "                    continue\n",
    "                elif line[:2] == '# ':\n",
    "                    items = line.split()\n",
    "                    metadata[items[1]] = numerify(items[2])\n",
    "\n",
    "                elif line[0] == 'q' and header_count == 2:\n",
    "                    in_data = True\n",
    "            elif in_data:\n",
    "                vals = line.split()\n",
    "                q.append(numerify(vals[0]))\n",
    "                I.append(numerify(vals[1]))\n",
    "                sig.append(numerify(vals[2]))\n",
    "\n",
    "\n",
    "    data = pd.DataFrame({'q':q, 'I':I, 'sig':sig})\n",
    "    \n",
    "    return data, metadata\n",
    "                \n",
    "\n",
    "        "
   ]
  },
  {
   "cell_type": "code",
   "execution_count": 4,
   "id": "906e17f9-66f0-4083-9f6d-a3a3855204a2",
   "metadata": {
    "tags": []
   },
   "outputs": [],
   "source": [
    "def find_ratio_peak(ratio_avg):\n",
    "    \"\"\"\n",
    "    Find max value of ratio using max\n",
    "    Returns index of peak\n",
    "    \"\"\"\n",
    "    \n",
    "    avg_copy = ratio_avg.copy()\n",
    "    avg_copy[avg_copy == np.inf] = 0\n",
    "    ind = np.nanargmax(avg_copy)\n",
    "    \n",
    "    return ind"
   ]
  },
  {
   "cell_type": "markdown",
   "id": "a93710e1-8828-4787-ae00-95e1db76526d",
   "metadata": {},
   "source": [
    "## 2. Subtract background"
   ]
  },
  {
   "cell_type": "code",
   "execution_count": 5,
   "id": "5d02080b-dbec-40c4-8b19-a4592689d7f5",
   "metadata": {
    "tags": []
   },
   "outputs": [],
   "source": [
    "def ratio_running_average(a, b, n_pts = 10):\n",
    "    \"\"\"\n",
    "    Calculate the running average of the ratio of signal to background\n",
    "    \n",
    "    a - signal data. 1d array\n",
    "    b - background data. 1d array\n",
    "    \"\"\"\n",
    "    \n",
    "    assert len(a) == len(b), 'a and b must have same number of elements'\n",
    "    \n",
    "    ratio = a/b\n",
    "    \n",
    "    running_average = np.convolve(ratio, np.ones(n_pts)/n_pts, mode = 'same')\n",
    "    \n",
    "    return running_average\n",
    "    \n",
    "    "
   ]
  },
  {
   "cell_type": "code",
   "execution_count": 6,
   "id": "d44ed04c-ac27-423c-af51-aca06bb67429",
   "metadata": {
    "tags": []
   },
   "outputs": [],
   "source": [
    "def scale_data(data1, data2, scale_qmin, scale_qmax):\n",
    "    \"\"\"\n",
    "    scale data2 onto data1 using a scale factor calculated from the difference in integrals of data1 and data2 over the range scale_qmin -> scale_qmax\n",
    "    \"\"\"\n",
    "\n",
    "    # get yvals for each dataset\n",
    "    inrange_data1 = data1[data1['q'].between(scale_qmin, scale_qmax, inclusive = 'both')]\n",
    "    inrange_data2 = data2[data2['q'].between(scale_qmin, scale_qmax, inclusive = 'both')]\n",
    "\n",
    "    assert np.isclose(inrange_data1['q'].iloc[0], inrange_data2['q'].iloc[0])\n",
    "    assert np.isclose(inrange_data1['q'].iloc[-1], inrange_data2['q'].iloc[-1])\n",
    "\n",
    "\n",
    "    x1 = inrange_data1['q'].to_numpy()\n",
    "    x2 = inrange_data2['q'].to_numpy()\n",
    "    y1 = inrange_data1['I'].to_numpy()\n",
    "    y2 = inrange_data2['I'].to_numpy()\n",
    "    #check for nans in y values\n",
    "\n",
    "    #trapezoid rule integrate\n",
    "    scale1 = np.trapz(y1, x1)/(x1[-1] - x1[0])\n",
    "    scale2 = np.trapz(y2, x2)/(x2[-1] - x2[0])\n",
    "\n",
    "    scale_factor = scale1/scale2\n",
    "\n",
    "\n",
    "    # scale data2 with scale factor\n",
    "    data2_out = data2.copy()\n",
    "\n",
    "    data2_out['I'] = data2['I']*scale_factor\n",
    "\n",
    "    return data2_out\n"
   ]
  },
  {
   "cell_type": "code",
   "execution_count": 7,
   "id": "cc4abc20-7c80-43cc-b240-ba4d63c5391d",
   "metadata": {
    "tags": []
   },
   "outputs": [],
   "source": [
    "def subtract_background(data, background, scale_background = False, scale_qmin = 1e-4, scale_qmax = 1e-3):\n",
    "\n",
    "    # check that q values line up for everything\n",
    "    assert np.isclose(data['q'].to_numpy(), background['q'].to_numpy()).all()\n",
    "    # once we get fancier look into allowance for slop or interpolation options. For now throw out anything not compliant ^^\n",
    "    \n",
    "    if scale_background:\n",
    "        background = scale_data(data, background, scale_qmin, scale_qmax)\n",
    "        \n",
    "    subtracted_I = data['I'] - background['I']\n",
    "\n",
    "    subtracted_data = data.copy()\n",
    "\n",
    "    subtracted_data['I'] = subtracted_I\n",
    "    \n",
    "    return subtracted_data"
   ]
  },
  {
   "cell_type": "code",
   "execution_count": 8,
   "id": "f6a569af-6639-44ac-bece-5533160e88af",
   "metadata": {},
   "outputs": [],
   "source": [
    "def select_valid_data(signal, background, lowq_thresh = 5, hiq_thresh = 5, hiq_avg_pts = 10):\n",
    "    \"\"\"\n",
    "    Find the region of valid data in SAXS signal\n",
    "    \n",
    "    Considers the ratio of signal to background to identify regions with enough scattering to provide information\n",
    "    \n",
    "    Parameters:\n",
    "    -----------\n",
    "    signal (DataFrame): signal saxs data\n",
    "    background (DataFrame): corresponding background\n",
    "    lowq_thresh: multiplier threshold for low q limit. Signal must be low_thresh times larger than background to find low q limit\n",
    "    hiq_thresh: threshold for hiq limit\n",
    "    hiq_avg_pts: how many data points to take a running average over when considering thresholds.\n",
    "    \"\"\"\n",
    "\n",
    "    assert len(signal) == len(background), 'Signal and background data sets need to have same number of data points'\n",
    "\n",
    "    q = signal['q']\n",
    "\n",
    "    lowq_lim = None\n",
    "    hiq_lim = None\n",
    "\n",
    "    last_n_ratios = []\n",
    "    rolling_average_ratio = ratio_running_average(signal['I'], background['I'], n_pts = hiq_avg_pts)\n",
    "\n",
    "    # need to find peak to engage hi-q limit finder\n",
    "    ratio_peak_ind = find_ratio_peak(rolling_average_ratio)\n",
    "\n",
    "\n",
    "\n",
    "    for i, ratio in enumerate(rolling_average_ratio):\n",
    "        if ratio > lowq_thresh:\n",
    "            if lowq_lim is None:\n",
    "                lowq_lim = i\n",
    "\n",
    "\n",
    "        if lowq_lim is not None:\n",
    "            if i > ratio_peak_ind:\n",
    "                if ratio < hiq_thresh:\n",
    "                    if hiq_lim is None:\n",
    "                        hiq_lim = i\n",
    "                        break\n",
    "                        \n",
    "    if lowq_lim is None:\n",
    "        raise AssertionError('Failed to find region of valid data (low q limit not found). Check that your sample scatters reasonably well')\n",
    "    if hiq_lim is None:\n",
    "        raise AssertionError('Failed to find region of valid data (low q limit not found). Check that your sample scatters reasonably well')\n",
    "        \n",
    "    if hiq_lim - lowq_lim < 30:\n",
    "        raise AssertionError('Insufficient data points in q range with scattering. Check data quality')\n",
    "\n",
    "    return lowq_lim, hiq_lim\n"
   ]
  },
  {
   "cell_type": "code",
   "execution_count": 9,
   "id": "66ee240e-f9b6-49a8-a90c-2355716775fd",
   "metadata": {
    "tags": []
   },
   "outputs": [],
   "source": [
    "def chop_subtract(signal, background, lowq_thresh = 5, hiq_thresh = 5, hiq_avg_pts = 10, scale = False):\n",
    "    \"\"\"\n",
    "    wrapper function to handle subtraction and valid data selection \n",
    "    \"\"\"\n",
    "    assert np.isclose(signal['q'].to_numpy(), background['q'].to_numpy()).all()\n",
    "\n",
    "    loq, hiq = select_valid_data(signal, background, lowq_thresh = lowq_thresh, hiq_thresh= hiq_thresh, hiq_avg_pts = hiq_avg_pts)\n",
    "\n",
    "    subtracted_signal = subtract_background(signal, background, scale_background = False)\n",
    "\n",
    "    chopped_subtracted = subtracted_signal.iloc[loq:hiq]\n",
    "\n",
    "    return chopped_subtracted\n"
   ]
  },
  {
   "cell_type": "code",
   "execution_count": 10,
   "id": "c2312213-8dad-4508-8cbb-c36c0c21d2dc",
   "metadata": {
    "tags": []
   },
   "outputs": [],
   "source": [
    "#figure out range of data to keep "
   ]
  },
  {
   "cell_type": "markdown",
   "id": "8eb9facc-8fc7-413f-9057-98d635896812",
   "metadata": {},
   "source": [
    "## 3. Data merge"
   ]
  },
  {
   "cell_type": "code",
   "execution_count": 11,
   "id": "06aabe6a-64a7-4749-8695-0e7c5fbecfa8",
   "metadata": {},
   "outputs": [],
   "source": [
    "#1. Figure out 'good' range for each data\n",
    "\n",
    "#low end: this is hard. probably use hard-coded qmin for now\n",
    "\n",
    "#upper end: do some sort of noise quantification. Maybe max-min over last 3 data points < 5% of average value? \n",
    "\n",
    "# 2. determine overlapping range for the 2 data sets\n",
    "\n",
    "#3. Looking within overlapping range, apply rules to figure something out\n",
    "\n",
    "    # - slopes should match\n",
    "    # - values should be close \n",
    "    \n",
    "    "
   ]
  },
  {
   "cell_type": "code",
   "execution_count": 12,
   "id": "b79c03bf-cf0e-4b10-84f7-647ff1cd718b",
   "metadata": {
    "tags": []
   },
   "outputs": [],
   "source": [
    "def splice_datasets(low_q_data, hi_q_data, low_q_limit, hi_q_limit, low_q_source = None, hi_q_source = None):\n",
    "    \"\"\"\n",
    "    Splice together low_q_data and hi_q_data. At q<lo_q_limit, only low_q_data included. Above hi_q_limit, only hi_q_data included. Between lo_q and hi_q limits, both datasets included\n",
    "    \"\"\"\n",
    "    low_q_include = low_q_data[low_q_data['q'] < hi_q_limit].copy()\n",
    "    hi_q_include = hi_q_data[hi_q_data['q'] > low_q_limit].copy()\n",
    "\n",
    "    if low_q_source is not None:\n",
    "        low_q_include['source'] = low_q_source\n",
    "    if hi_q_source is not None:\n",
    "        hi_q_include['source'] = hi_q_source\n",
    "\n",
    "    spliced_data = pd.concat([low_q_include, hi_q_include]).sort_values('q')\n",
    "\n",
    "    return spliced_data\n"
   ]
  },
  {
   "cell_type": "code",
   "execution_count": 13,
   "id": "53ff3e53-7d24-4680-a303-4e3cb5c44f36",
   "metadata": {
    "tags": []
   },
   "outputs": [],
   "source": [
    "def find_overlap(data1, data2):\n",
    "    \"\"\"\n",
    "    Returns the subset of data1 that has q values strictly enclosed by q range of data2\n",
    "    \"\"\"\n",
    "\n",
    "    # Find the range of data1 that is entirely within data2\n",
    "\n",
    "    data1_qmax = data1['q'].max()\n",
    "    data1_qmin = data1['q'].min()\n",
    "\n",
    "    data2_qmax = data2['q'].max()\n",
    "    data2_qmin = data2['q'].min()\n",
    "\n",
    "    data1_overlap = data1[data1['q'] > data2_qmin]\n",
    "    data1_overlap = data1_overlap[data1_overlap['q'] < data2_qmax]\n",
    "\n",
    "    return data1_overlap\n"
   ]
  },
  {
   "cell_type": "code",
   "execution_count": 14,
   "id": "f9390dd4-63d5-45df-aee8-a43fa4c0ec65",
   "metadata": {
    "tags": []
   },
   "outputs": [],
   "source": [
    "def interpolate_on_q(target_data, modify_data):\n",
    "    \"\"\"\n",
    "    Linearly interpolate data from modify_data onto q grid from target data \n",
    "    \"\"\"\n",
    "\n",
    "    interp_I = np.interp(target_data['q'], modify_data['q'], modify_data['I'])\n",
    "\n",
    "    interp_result = pd.DataFrame({'q':target_data['q'], 'I':interp_I})\n",
    "    \n",
    "    return interp_result\n",
    "\n",
    "\n",
    "\n"
   ]
  },
  {
   "cell_type": "code",
   "execution_count": 15,
   "id": "88bc7e00-cd00-45e4-a95b-562563cbcdfe",
   "metadata": {},
   "outputs": [],
   "source": [
    "# forward diff\n",
    "def forward_difference(data):\n",
    "\n",
    "\n",
    "    q = data['q']\n",
    "    I = data['I']\n",
    "\n",
    "    dI = np.diff(I)\n",
    "    dq = np.diff(q)\n",
    "\n",
    "    dIdq = dI/dq\n",
    "    \n",
    "    data = data[:-1].copy()\n",
    "    data['dIdq'] = dIdq\n",
    "    \n",
    "    return data"
   ]
  },
  {
   "cell_type": "code",
   "execution_count": 16,
   "id": "5314e7fc-6bbd-4358-bed0-59631d960ce4",
   "metadata": {
    "tags": []
   },
   "outputs": [],
   "source": [
    "def deriv_ratio(data1, data2):\n",
    "    deriv1 = forward_difference(data1)\n",
    "    deriv2 = forward_difference(data2)\n",
    "    \n",
    "    ratio = deriv1['dIdq']/deriv2['dIdq']\n",
    "    \n",
    "    return ratio"
   ]
  },
  {
   "cell_type": "code",
   "execution_count": 17,
   "id": "6922c11a-37dc-4700-a7b2-0e9ad704a0a5",
   "metadata": {},
   "outputs": [],
   "source": [
    "def noise_score(data, n_pts = 20):\n",
    "    \"\"\"\n",
    "    Calculate a measure of noisiness in data by looking at ratio of data to n_pts local running average (backwards average here I think)\n",
    "    \"\"\"\n",
    "    running_average = np.convolve(data['I'], np.ones(n_pts)/n_pts, mode = 'same')\n",
    "\n",
    "    ratio_to_average = data['I']/running_average\n",
    "\n",
    "    noise_score = abs(1-ratio_to_average)\n",
    "    \n",
    "    return noise_score "
   ]
  },
  {
   "cell_type": "code",
   "execution_count": 18,
   "id": "fedc3442-a4dd-4c97-b24b-ab0e8961a2ac",
   "metadata": {
    "tags": []
   },
   "outputs": [],
   "source": [
    "def find_qlim_low(low_q_data, hi_q_data, val_threshold = 0.1, slope_threshold = 0.4):\n",
    "    \"\"\"\n",
    "    Find the low q merge limit using combination of curve closeness and slope criteria \n",
    "    \"\"\"\n",
    "    slope_ratio = deriv_ratio(low_q_data, hi_q_data)\n",
    "    val_ratio = ratio_running_average(low_q_data['I'], hi_q_data['I'])\n",
    "\n",
    "    match_count = 0\n",
    "\n",
    "    for q, val, slope in zip(low_q_data['q'][1:], val_ratio[1:], slope_ratio):\n",
    "\n",
    "        if abs(1-val) < val_threshold:\n",
    "            if abs(1-slope) < slope_threshold:\n",
    "                match_count +=1\n",
    "\n",
    "        if match_count == 3:\n",
    "            # we've found limit\n",
    "            return q\n",
    "        \n",
    "    raise AssertionError('Q low limit matching given criteria not found')\n",
    "\n",
    "\n"
   ]
  },
  {
   "cell_type": "code",
   "execution_count": 19,
   "id": "53f28a5e-16a8-4b55-85c4-74bb77b087ed",
   "metadata": {
    "tags": []
   },
   "outputs": [],
   "source": [
    "def find_qlim_hi(low_q_data, qlim_low, noise_threshold = 0.2, n_pts = 20):\n",
    "    \"\"\"\n",
    "    Find the hi q merge limit using noise criteria on low q data \n",
    "    \"\"\"\n",
    "    \n",
    "    noise_value = noise_score(low_q_data, n_pts = n_pts)\n",
    "\n",
    "    for i, (q, noise) in enumerate(zip(low_q_data['q'], noise_value)):\n",
    "        if i > n_pts: # need to avoid edge effects \n",
    "            if q > qlim_low:\n",
    "                if noise > noise_threshold:\n",
    "                    return q\n",
    "                \n",
    "    raise AssertionError('Q lim hi not found with given criteria')"
   ]
  },
  {
   "cell_type": "code",
   "execution_count": 20,
   "id": "5c87265e-5c1c-4604-8633-f464ffdae435",
   "metadata": {
    "tags": []
   },
   "outputs": [],
   "source": [
    "def get_merge_limits(low_q_data, hi_q_data, val_threshold = 0.1, slope_threshold = 0.4, noise_threshold = 0.2, n_pts = 20):\n",
    "    \n",
    "    qlim_low = find_qlim_low(low_q_data, hi_q_data, val_threshold = val_threshold, slope_threshold = slope_threshold)\n",
    "    qlim_hi = find_qlim_hi(low_q_data, qlim_low, noise_threshold = noise_threshold, n_pts = n_pts)\n",
    "    \n",
    "    return (qlim_low, qlim_hi)"
   ]
  },
  {
   "cell_type": "code",
   "execution_count": 63,
   "id": "e69c31ae-05e6-4bfe-b1b6-2eed922e00de",
   "metadata": {
    "tags": []
   },
   "outputs": [],
   "source": [
    "def auto_merge(low_q_data, hi_q_data, low_q_source = None, hi_q_source = None, val_threshold = 0.2, slope_threshold = 0.4, noise_threshold = 0.25, n_pts = 20):\n",
    "    \"\"\"\n",
    "    Wrapper function to handle merging tasks \n",
    "    \n",
    "    Takes subtracted/chopped data \n",
    "    \"\"\"\n",
    "    \n",
    "    low_q_overlap = find_overlap(low_q_data, hi_q_data)\n",
    "    hi_q_overlap = find_overlap(hi_q_data, low_q_data)\n",
    "    \n",
    "    hi_q_interpolated = interpolate_on_q(low_q_overlap, hi_q_overlap)\n",
    "    \n",
    "    low_q_lim, hi_q_lim = get_merge_limits(low_q_overlap, hi_q_interpolated, val_threshold = val_threshold, slope_threshold = slope_threshold, noise_threshold = noise_threshold, n_pts = n_pts)\n",
    "    \n",
    "    print(f'low q merge lim: {low_q_lim}')\n",
    "    print(f'hi q merge lim: {hi_q_lim}')\n",
    "    \n",
    "    spliced = splice_datasets(low_q_overlap, hi_q_overlap, low_q_lim, hi_q_lim, low_q_source, hi_q_source)\n",
    "    \n",
    "    merge_metadata = {'low_q_source':low_q_source, 'hi_q_source':hi_q_source, 'low_q_limit':low_q_lim, 'hi_q_limit':hi_q_lim, 'low_q_value_threshold':val_threshold, 'low_q_slope_threshold':slope_threshold, 'hi_q_noise_threshold':noise_threshold, 'averaging_n_pts':n_pts}\n",
    "    \n",
    "    return spliced, merge_metadata"
   ]
  },
  {
   "cell_type": "markdown",
   "id": "d1c83e32-5b9d-4fe9-a296-ac613f950bb7",
   "metadata": {},
   "source": [
    "## Run processing here "
   ]
  },
  {
   "cell_type": "code",
   "execution_count": 66,
   "id": "f1f363f5-ea91-4252-9ce0-e22bfbd8d8a0",
   "metadata": {},
   "outputs": [],
   "source": [
    "esaxs_data, esaxs_metadata = read_1D_data('data/2023_11_2_position2Top/Data_0_00002.dat')\n",
    "saxs_data, saxs_metadata = read_1D_data('data/2023_11_2_position2Top/Data_0_00016.dat')\n",
    "maxs_data, maxs_metadata = read_1D_data('data/2023_11_2_position2Top/Data_0_00030.dat')\n",
    "\n",
    "esaxs_bkg_data, esaxs_bkg_metadata = read_1D_data('data/2023_11_2_position4Top/Data_0_00012.dat')\n",
    "saxs_bkg_data, saxs_bkg_metadata = read_1D_data('data/2023_11_2_position4Top/Data_0_00026.dat')\n",
    "maxs_bkg_data, maxs_bkg_metadata = read_1D_data('data/2023_11_2_position4Top/Data_0_00040.dat')"
   ]
  },
  {
   "cell_type": "code",
   "execution_count": 67,
   "id": "f00e602e-5cf7-434c-a95a-02131afb81b0",
   "metadata": {
    "tags": []
   },
   "outputs": [
    {
     "data": {
      "text/plain": [
       "[<matplotlib.lines.Line2D at 0x7f28f0969350>]"
      ]
     },
     "execution_count": 67,
     "metadata": {},
     "output_type": "execute_result"
    },
    {
     "data": {
      "image/png": "[encoded data removed]",
      "text/plain": [
       "<Figure size 640x480 with 1 Axes>"
      ]
     },
     "metadata": {},
     "output_type": "display_data"
    }
   ],
   "source": [
    "plt.loglog(esaxs_data['q'], esaxs_data['I'])\n",
    "plt.loglog(saxs_data['q'], saxs_data['I'])\n",
    "plt.loglog(maxs_data['q'], maxs_data['I'])"
   ]
  },
  {
   "cell_type": "code",
   "execution_count": 68,
   "id": "1a40ff7d-c78c-490c-adb2-05f57ae90af3",
   "metadata": {
    "tags": []
   },
   "outputs": [
    {
     "data": {
      "text/plain": [
       "<matplotlib.collections.LineCollection at 0x7f28f08f3c90>"
      ]
     },
     "execution_count": 68,
     "metadata": {},
     "output_type": "execute_result"
    },
    {
     "data": {
      "image/png": "[encoded data removed]",
      "text/plain": [
       "<Figure size 640x480 with 1 Axes>"
      ]
     },
     "metadata": {},
     "output_type": "display_data"
    }
   ],
   "source": [
    "signal = esaxs_data\n",
    "background = esaxs_bkg_data\n",
    "\n",
    "\n",
    "loq, hiq = select_valid_data(signal, background, lowq_thresh = 5)\n",
    "\n",
    "fig, ax = plt.subplots()\n",
    "\n",
    "\n",
    "\n",
    "ax.loglog(signal['q'], signal['I'])\n",
    "ax.loglog(background['q'], background['I'])\n",
    "\n",
    "\n",
    "#ax1.loglog(esaxs_data['q'][1:], ratio_diff, c = 'g')\n",
    "#ax1.loglog(esaxs_data['q'], rolling_average_ratio)\n",
    "\n",
    "ax.vlines(signal['q'][loq], 0, 10e6)\n",
    "ax.vlines(signal['q'][hiq], 0, 10e6)\n",
    "#ax.vlines(q_peak, 0, 10e6, color = 'r')"
   ]
  },
  {
   "cell_type": "code",
   "execution_count": 69,
   "id": "306ad952-6c80-47ad-b7ee-409510d23f25",
   "metadata": {
    "tags": []
   },
   "outputs": [
    {
     "data": {
      "text/plain": [
       "<matplotlib.collections.LineCollection at 0x7f28f0ae9ad0>"
      ]
     },
     "execution_count": 69,
     "metadata": {},
     "output_type": "execute_result"
    },
    {
     "data": {
      "image/png": "[encoded data removed]",
      "text/plain": [
       "<Figure size 640x480 with 1 Axes>"
      ]
     },
     "metadata": {},
     "output_type": "display_data"
    }
   ],
   "source": [
    "signal = saxs_data\n",
    "background = saxs_bkg_data\n",
    "\n",
    "\n",
    "loq, hiq = select_valid_data(signal, background, lowq_thresh = 5)\n",
    "\n",
    "fig, ax = plt.subplots()\n",
    "\n",
    "\n",
    "\n",
    "ax.loglog(signal['q'], signal['I'])\n",
    "ax.loglog(background['q'], background['I'])\n",
    "\n",
    "\n",
    "#ax1.loglog(esaxs_data['q'][1:], ratio_diff, c = 'g')\n",
    "#ax1.loglog(esaxs_data['q'], rolling_average_ratio)\n",
    "\n",
    "ax.vlines(signal['q'][loq], 0, 10e6)\n",
    "ax.vlines(signal['q'][hiq], 0, 10e6)\n",
    "#ax.vlines(q_peak, 0, 10e6, color = 'r')"
   ]
  },
  {
   "cell_type": "code",
   "execution_count": 70,
   "id": "e4729fc4-4623-4dd1-b53a-16022fb381ea",
   "metadata": {
    "tags": []
   },
   "outputs": [
    {
     "data": {
      "text/plain": [
       "<matplotlib.collections.LineCollection at 0x7f28f0c25ad0>"
      ]
     },
     "execution_count": 70,
     "metadata": {},
     "output_type": "execute_result"
    },
    {
     "data": {
      "image/png": "[encoded data removed]",
      "text/plain": [
       "<Figure size 640x480 with 1 Axes>"
      ]
     },
     "metadata": {},
     "output_type": "display_data"
    }
   ],
   "source": [
    "signal = maxs_data\n",
    "background = maxs_bkg_data\n",
    "\n",
    "\n",
    "loq, hiq = select_valid_data(signal, background, lowq_thresh = 5)\n",
    "\n",
    "fig, ax = plt.subplots()\n",
    "\n",
    "\n",
    "\n",
    "ax.loglog(signal['q'], signal['I'])\n",
    "ax.loglog(background['q'], background['I'])\n",
    "\n",
    "\n",
    "#ax1.loglog(esaxs_data['q'][1:], ratio_diff, c = 'g')\n",
    "#ax1.loglog(esaxs_data['q'], rolling_average_ratio)\n",
    "\n",
    "ax.vlines(signal['q'][loq], 0, 10e6)\n",
    "ax.vlines(signal['q'][hiq], 0, 10e6)\n",
    "#ax.vlines(q_peak, 0, 10e6, color = 'r')"
   ]
  },
  {
   "cell_type": "code",
   "execution_count": 71,
   "id": "942a6552-7852-421b-b031-47bf14fbb637",
   "metadata": {
    "tags": []
   },
   "outputs": [
    {
     "data": {
      "text/plain": [
       "12"
      ]
     },
     "execution_count": 71,
     "metadata": {},
     "output_type": "execute_result"
    }
   ],
   "source": [
    "loq"
   ]
  },
  {
   "cell_type": "code",
   "execution_count": 72,
   "id": "c7397976-a3c6-4ac0-8a55-8b6e69ff71f9",
   "metadata": {
    "tags": []
   },
   "outputs": [
    {
     "data": {
      "text/plain": [
       "12"
      ]
     },
     "execution_count": 72,
     "metadata": {},
     "output_type": "execute_result"
    }
   ],
   "source": [
    "loq"
   ]
  },
  {
   "cell_type": "code",
   "execution_count": 73,
   "id": "7ff4df1b-dd63-4b1b-877a-c789fd1a061f",
   "metadata": {
    "tags": []
   },
   "outputs": [],
   "source": [
    "cleaned_esaxs = chop_subtract(esaxs_data, esaxs_bkg_data)\n",
    "cleaned_saxs = chop_subtract(saxs_data, saxs_bkg_data)\n",
    "cleaned_maxs = chop_subtract(maxs_data, maxs_bkg_data)"
   ]
  },
  {
   "cell_type": "code",
   "execution_count": 74,
   "id": "3d92eaf9-eec1-4fad-a7b7-b2dd2ed56518",
   "metadata": {
    "tags": []
   },
   "outputs": [
    {
     "data": {
      "text/plain": [
       "[<matplotlib.lines.Line2D at 0x7f28f0517410>]"
      ]
     },
     "execution_count": 74,
     "metadata": {},
     "output_type": "execute_result"
    },
    {
     "data": {
      "image/png": "[encoded data removed]",
      "text/plain": [
       "<Figure size 640x480 with 1 Axes>"
      ]
     },
     "metadata": {},
     "output_type": "display_data"
    }
   ],
   "source": [
    "plt.loglog(cleaned_esaxs['q'], cleaned_esaxs['I'])\n",
    "plt.loglog(cleaned_saxs['q'], cleaned_saxs['I'])\n",
    "plt.loglog(cleaned_maxs['q'], cleaned_maxs['I'], marker = '.')"
   ]
  },
  {
   "cell_type": "code",
   "execution_count": 75,
   "id": "735c4c01-ee73-451d-9ef6-109b821ffd70",
   "metadata": {
    "tags": []
   },
   "outputs": [
    {
     "name": "stdout",
     "output_type": "stream",
     "text": [
      "low q merge lim: 0.00483904983326836\n",
      "hi q merge lim: 0.06596388983244765\n"
     ]
    }
   ],
   "source": [
    "low_q_data = cleaned_esaxs\n",
    "hi_q_data = cleaned_saxs\n",
    "\n",
    "low_q_source = None\n",
    "hi_q_source = None\n",
    "val_threshold = 0.2\n",
    "slope_threshold = 0.4\n",
    "noise_threshold = 0.25\n",
    "n_pts = 20\n",
    "\n",
    "low_q_overlap = find_overlap(low_q_data, hi_q_data)\n",
    "hi_q_overlap = find_overlap(hi_q_data, low_q_data)\n",
    "\n",
    "hi_q_interpolated = interpolate_on_q(low_q_overlap, hi_q_overlap)\n",
    "\n",
    "low_q_lim, hi_q_lim = get_merge_limits(low_q_overlap, hi_q_interpolated, val_threshold = val_threshold, slope_threshold = slope_threshold, noise_threshold = noise_threshold, n_pts = n_pts)\n",
    "\n",
    "print(f'low q merge lim: {low_q_lim}')\n",
    "print(f'hi q merge lim: {hi_q_lim}')\n",
    "\n",
    "spliced = splice_datasets(low_q_overlap, hi_q_overlap, low_q_lim, hi_q_lim, low_q_source, hi_q_source)"
   ]
  },
  {
   "cell_type": "code",
   "execution_count": 76,
   "id": "4515eeff-9e0b-45cd-a30e-4752447205cc",
   "metadata": {
    "tags": []
   },
   "outputs": [
    {
     "data": {
      "text/plain": [
       "[<matplotlib.lines.Line2D at 0x7f28f020fe10>]"
      ]
     },
     "execution_count": 76,
     "metadata": {},
     "output_type": "execute_result"
    },
    {
     "data": {
      "image/png": "[encoded data removed]",
      "text/plain": [
       "<Figure size 640x480 with 2 Axes>"
      ]
     },
     "metadata": {},
     "output_type": "display_data"
    }
   ],
   "source": [
    "\n",
    "fig, ax = plt.subplots()\n",
    "\n",
    "ax.loglog(cleaned_esaxs['q'], cleaned_esaxs['I'])\n",
    "ax.loglog(cleaned_saxs['q'], cleaned_saxs['I'])\n",
    "ax.vlines(low_q_lim, 0, 1e3)\n",
    "ax.vlines(hi_q_lim, 0, 1e3)\n",
    "\n",
    "ax1 = ax.twinx()\n",
    "\n",
    "noise = noise_score(cleaned_esaxs, n_pts= n_pts)\n",
    "\n",
    "ax1.semilogx(cleaned_esaxs['q'], noise)"
   ]
  },
  {
   "cell_type": "code",
   "execution_count": null,
   "id": "1c74ecad-c266-4a02-8dbb-d423ddf66b8e",
   "metadata": {},
   "outputs": [],
   "source": []
  },
  {
   "cell_type": "code",
   "execution_count": 78,
   "id": "bf877aa5-1466-451a-985a-f7e4afd0ae32",
   "metadata": {
    "tags": []
   },
   "outputs": [
    {
     "name": "stdout",
     "output_type": "stream",
     "text": [
      "low q merge lim: 0.00483904983326836\n",
      "hi q merge lim: 0.06596388983244765\n",
      "low q merge lim: 0.017573391499764047\n",
      "hi q merge lim: 0.07759467461926646\n"
     ]
    }
   ],
   "source": [
    "merged1, merge_metadata_1 = auto_merge(cleaned_esaxs, cleaned_saxs, 'esaxs', 'saxs')\n",
    "fullmerge, merge_metadata_2 = auto_merge(merged1, maxs_data, hi_q_source = 'maxs')\n"
   ]
  },
  {
   "cell_type": "code",
   "execution_count": 79,
   "id": "d28284fc-c42d-4670-ae0c-4ae6f467eed8",
   "metadata": {},
   "outputs": [
    {
     "data": {
      "text/plain": [
       "<matplotlib.collections.LineCollection at 0x7f28f05ea450>"
      ]
     },
     "execution_count": 79,
     "metadata": {},
     "output_type": "execute_result"
    },
    {
     "data": {
      "image/png": "[encoded data removed]",
      "text/plain": [
       "<Figure size 640x480 with 1 Axes>"
      ]
     },
     "metadata": {},
     "output_type": "display_data"
    }
   ],
   "source": [
    "plt.loglog(fullmerge['q'], fullmerge['I'])\n",
    "plt.vlines(low_q_lim, 0, 1e3)\n",
    "plt.vlines(hi_q_lim, 0, 1e3)"
   ]
  },
  {
   "cell_type": "code",
   "execution_count": 87,
   "id": "968ee2e2-06df-428d-835d-d67a3bdcb9bb",
   "metadata": {},
   "outputs": [],
   "source": [
    "def write_dat(data, metadata, fp):\n",
    "\n",
    "    with open(fp, 'wt') as f:\n",
    "        f.write('#'*80 + '\\n')\n",
    "        for key, val in metadata.items():\n",
    "            f.write('# ' + str(key) + ' '*(32 - len(str(key))) + str(val) + '\\n')\n",
    "        f.write('#'*80 + '\\n')\n",
    "        f.write('q(A-1)                    I(q)                      Sig(q) \\n')                    \n",
    "        for i, row in data.iterrows():\n",
    "            q = str(row['q'])\n",
    "            i = str(row['I'])\n",
    "            sig = str(row['sig'])\n",
    "            f.write(q + ' '*(26 - len(q)) + i + ' '*(26 - len(i)) + sig + '\\n') \n",
    "\n",
    "    \n",
    "\n",
    "    \n",
    "    "
   ]
  },
  {
   "cell_type": "code",
   "execution_count": 84,
   "id": "37867483-19fc-4ca5-88e7-fc9ea3e3a80f",
   "metadata": {
    "tags": []
   },
   "outputs": [],
   "source": [
    "combined_metadata = {f'merge1_{key}':val for key, val in merge_metadata_1.items()}\n",
    "\n",
    "for key, val in merge_metadata_2.items():\n",
    "    combined_metadata[f'merge2_{str(key)}'] = val\n"
   ]
  },
  {
   "cell_type": "code",
   "execution_count": 88,
   "id": "fe221280-b414-4647-8edd-97fd3c2a6b00",
   "metadata": {
    "tags": []
   },
   "outputs": [],
   "source": [
    "write_dat(fullmerge, combined_metadata, 'testcase1_merged.dat')"
   ]
  },
  {
   "cell_type": "code",
   "execution_count": 59,
   "id": "0b20a979-423a-4451-a601-f69571a4b938",
   "metadata": {
    "tags": []
   },
   "outputs": [
    {
     "data": {
      "text/plain": [
       "'0.07895300590363'"
      ]
     },
     "execution_count": 59,
     "metadata": {},
     "output_type": "execute_result"
    }
   ],
   "source": [
    "str(q)"
   ]
  },
  {
   "cell_type": "code",
   "execution_count": 60,
   "id": "39b3ea14-686a-4186-a0cf-481314ba2d23",
   "metadata": {
    "tags": []
   },
   "outputs": [
    {
     "data": {
      "text/plain": [
       "26"
      ]
     },
     "execution_count": 60,
     "metadata": {},
     "output_type": "execute_result"
    }
   ],
   "source": [
    "len('8.489561110997124e-05     ')#7248137.210298583         1490.3834240522779"
   ]
  },
  {
   "cell_type": "code",
   "execution_count": 61,
   "id": "88213f4c-8d36-4cab-8abb-da94af4a047a",
   "metadata": {
    "tags": []
   },
   "outputs": [
    {
     "data": {
      "text/plain": [
       "26"
      ]
     },
     "execution_count": 61,
     "metadata": {},
     "output_type": "execute_result"
    }
   ],
   "source": [
    "len('7248137.210298583         ')"
   ]
  },
  {
   "cell_type": "code",
   "execution_count": null,
   "id": "4e5f8ae7-1f2a-4f10-ad92-26bcbd3f37ea",
   "metadata": {},
   "outputs": [],
   "source": []
  }
 ],
 "metadata": {
  "kernelspec": {
   "display_name": "Python 3 (ipykernel)",
   "language": "python",
   "name": "python3"
  },
  "language_info": {
   "codemirror_mode": {
    "name": "ipython",
    "version": 3
   },
   "file_extension": ".py",
   "mimetype": "text/x-python",
   "name": "python",
   "nbconvert_exporter": "python",
   "pygments_lexer": "ipython3",
   "version": "3.11.5"
  }
 },
 "nbformat": 4,
 "nbformat_minor": 5
}
