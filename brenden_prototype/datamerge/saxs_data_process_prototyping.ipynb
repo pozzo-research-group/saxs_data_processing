{
 "cells": [
  {
   "cell_type": "code",
   "execution_count": 1,
   "id": "6aa7eb43-1807-4a08-b67c-97dc1e85fa18",
   "metadata": {
    "tags": []
   },
   "outputs": [],
   "source": [
    "import pandas as pd\n",
    "import numpy as np\n",
    "import matplotlib.pyplot as plt"
   ]
  },
  {
   "cell_type": "markdown",
   "id": "e4da5501-f958-4131-8543-5842cae42983",
   "metadata": {},
   "source": [
    "## 1. Load data"
   ]
  },
  {
   "cell_type": "code",
   "execution_count": 2,
   "id": "53a9af1d-040d-4d2d-9677-edf23fcb012e",
   "metadata": {
    "tags": []
   },
   "outputs": [],
   "source": [
    "def numerify(var):\n",
    "    \"\"\"\n",
    "    Cast an object as an int or float if possible. Otherwise return unmodified\n",
    "    \"\"\"\n",
    "    \n",
    "    if isinstance(var, str):\n",
    "        try:\n",
    "            var = int(var)\n",
    "\n",
    "        except:\n",
    "            try:\n",
    "                var = float(var)\n",
    "            except:\n",
    "                pass\n",
    "    else:\n",
    "        pass\n",
    "            \n",
    "    return var"
   ]
  },
  {
   "cell_type": "code",
   "execution_count": 3,
   "id": "5a945a17-8cc7-4ec0-9148-1fbdcd144f78",
   "metadata": {},
   "outputs": [],
   "source": [
    "#write a nice data loader\n",
    "#should return metadata as a dict, data in a pandas df\n",
    "\n",
    "\n",
    "def read_1D_data(fp):\n",
    "    \"\"\"\n",
    "    Read a 1D Xenocs data .dat file\n",
    "    \"\"\"\n",
    "    metadata = {}\n",
    "    q = []\n",
    "    I = []\n",
    "    sig = []\n",
    "    header_count = 0\n",
    "\n",
    "    in_data = False # flag for if we are read into data yet\n",
    "\n",
    "    with open(fp, 'rt') as f:\n",
    "        for line in f:\n",
    "            if not in_data:\n",
    "                if line[:2] == '##': #metadata section header \n",
    "                    header_count +=1\n",
    "                    continue\n",
    "                elif line[:2] == '# ':\n",
    "                    items = line.split()\n",
    "                    metadata[items[1]] = numerify(items[2])\n",
    "\n",
    "                elif line[0] == 'q' and header_count == 2:\n",
    "                    in_data = True\n",
    "            elif in_data:\n",
    "                vals = line.split()\n",
    "                q.append(numerify(vals[0]))\n",
    "                I.append(numerify(vals[1]))\n",
    "                sig.append(numerify(vals[2]))\n",
    "\n",
    "\n",
    "    data = pd.DataFrame({'q':q, 'I':I, 'sig':sig})\n",
    "    \n",
    "    return data, metadata\n",
    "                \n",
    "\n",
    "        "
   ]
  },
  {
   "cell_type": "code",
   "execution_count": 4,
   "id": "f1f363f5-ea91-4252-9ce0-e22bfbd8d8a0",
   "metadata": {},
   "outputs": [],
   "source": [
    "esaxs_data, esaxs_metadata = read_1D_data('data/Data_0_00002.dat')\n",
    "saxs_data, saxs_metadata = read_1D_data('data/Data_0_00016.dat')\n",
    "maxs_data, maxs_metadata = read_1D_data('data/Data_0_00030.dat')\n",
    "\n",
    "esaxs_bkg_data, esaxs_bkg_metadata = read_1D_data('data/Data_0_00012.dat')\n",
    "saxs_bkg_data, saxs_bkg_metadata = read_1D_data('data/Data_0_00026.dat')\n",
    "maxs_bkg_data, maxs_bkg_metadata = read_1D_data('data/Data_0_00040.dat')"
   ]
  },
  {
   "cell_type": "markdown",
   "id": "a93710e1-8828-4787-ae00-95e1db76526d",
   "metadata": {},
   "source": [
    "## 2. Subtract background"
   ]
  },
  {
   "cell_type": "code",
   "execution_count": 5,
   "id": "906e17f9-66f0-4083-9f6d-a3a3855204a2",
   "metadata": {
    "tags": []
   },
   "outputs": [],
   "source": [
    "def find_ratio_peak(ratio_avg):\n",
    "    \"\"\"\n",
    "    Find max value of ratio using max\n",
    "    Returns index of peak\n",
    "    \"\"\"\n",
    "    \n",
    "    avg_copy = ratio_avg.copy()\n",
    "    avg_copy[avg_copy == np.inf] = 0\n",
    "    ind = np.nanargmax(avg_copy)\n",
    "    \n",
    "    return ind"
   ]
  },
  {
   "cell_type": "code",
   "execution_count": 6,
   "id": "5d02080b-dbec-40c4-8b19-a4592689d7f5",
   "metadata": {
    "tags": []
   },
   "outputs": [],
   "source": [
    "def ratio_running_average(a, b, n_pts = 10):\n",
    "    \"\"\"\n",
    "    Calculate the running average of the ratio of signal to background\n",
    "    \n",
    "    a - signal data. 1d array\n",
    "    b - background data. 1d array\n",
    "    \"\"\"\n",
    "    \n",
    "    assert len(a) == len(b), 'a and b must have same number of elements'\n",
    "    \n",
    "    ratio = a/b\n",
    "    \n",
    "    running_average = np.convolve(ratio, np.ones(n_pts)/n_pts, mode = 'same')\n",
    "    \n",
    "    return running_average\n",
    "    \n",
    "    "
   ]
  },
  {
   "cell_type": "code",
   "execution_count": 7,
   "id": "d44ed04c-ac27-423c-af51-aca06bb67429",
   "metadata": {
    "tags": []
   },
   "outputs": [],
   "source": [
    "def scale_data(data1, data2, scale_qmin, scale_qmax):\n",
    "    \"\"\"\n",
    "    scale data2 onto data1 using a scale factor calculated from the difference in integrals of data1 and data2 over the range scale_qmin -> scale_qmax\n",
    "    \"\"\"\n",
    "\n",
    "    # get yvals for each dataset\n",
    "    inrange_data1 = data1[data1['q'].between(scale_qmin, scale_qmax, inclusive = 'both')]\n",
    "    inrange_data2 = data2[data2['q'].between(scale_qmin, scale_qmax, inclusive = 'both')]\n",
    "\n",
    "    assert np.isclose(inrange_data1['q'].iloc[0], inrange_data2['q'].iloc[0])\n",
    "    assert np.isclose(inrange_data1['q'].iloc[-1], inrange_data2['q'].iloc[-1])\n",
    "\n",
    "\n",
    "    x1 = inrange_data1['q'].to_numpy()\n",
    "    x2 = inrange_data2['q'].to_numpy()\n",
    "    y1 = inrange_data1['I'].to_numpy()\n",
    "    y2 = inrange_data2['I'].to_numpy()\n",
    "    #check for nans in y values\n",
    "\n",
    "    #trapezoid rule integrate\n",
    "    scale1 = np.trapz(y1, x1)/(x1[-1] - x1[0])\n",
    "    scale2 = np.trapz(y2, x2)/(x2[-1] - x2[0])\n",
    "\n",
    "    scale_factor = scale1/scale2\n",
    "\n",
    "\n",
    "    # scale data2 with scale factor\n",
    "    data2_out = data2.copy()\n",
    "\n",
    "    data2_out['I'] = data2['I']*scale_factor\n",
    "\n",
    "    return data2_out\n"
   ]
  },
  {
   "cell_type": "code",
   "execution_count": 21,
   "id": "cc4abc20-7c80-43cc-b240-ba4d63c5391d",
   "metadata": {
    "tags": []
   },
   "outputs": [],
   "source": [
    "def subtract_background(data, background, scale_background = False, scale_qmin = 1e-4, scale_qmax = 1e-3):\n",
    "\n",
    "    # check that q values line up for everything\n",
    "    assert np.isclose(data['q'].to_numpy(), background['q'].to_numpy()).all()\n",
    "    # once we get fancier look into allowance for slop or interpolation options. For now throw out anything not compliant ^^\n",
    "    \n",
    "    if scale_background:\n",
    "        background = scale_data(data, background, scale_qmin, scale_qmax)\n",
    "        \n",
    "    subtracted_I = data['I'] - background['I']\n",
    "\n",
    "    subtracted_data = data.copy()\n",
    "\n",
    "    subtracted_data['I'] = subtracted_I\n",
    "    \n",
    "    return subtracted_data"
   ]
  },
  {
   "cell_type": "code",
   "execution_count": 22,
   "id": "f6a569af-6639-44ac-bece-5533160e88af",
   "metadata": {},
   "outputs": [],
   "source": [
    "def select_valid_data(signal, background, lowq_thresh = 5, hiq_thresh = 5, hiq_avg_pts = 10):\n",
    "    \"\"\"\n",
    "    Find the region of valid data in SAXS signal\n",
    "    \n",
    "    Considers the ratio of signal to background to identify regions with enough scattering to provide information\n",
    "    \n",
    "    Parameters:\n",
    "    -----------\n",
    "    signal (DataFrame): signal saxs data\n",
    "    background (DataFrame): corresponding background\n",
    "    lowq_thresh: multiplier threshold for low q limit. Signal must be low_thresh times larger than background to find low q limit\n",
    "    hiq_thresh: threshold for hiq limit\n",
    "    hiq_avg_pts: how many data points to take a running average over when considering thresholds.\n",
    "    \"\"\"\n",
    "\n",
    "    assert len(signal) == len(background), 'Signal and background data sets need to have same number of data points'\n",
    "\n",
    "    q = signal['q']\n",
    "\n",
    "    lowq_lim = None\n",
    "    hiq_lim = None\n",
    "\n",
    "    last_n_ratios = []\n",
    "    rolling_average_ratio = ratio_running_average(signal['I'], background['I'], n_pts = hiq_avg_pts)\n",
    "\n",
    "    # need to find peak to engage hi-q limit finder\n",
    "    ratio_peak_ind = find_ratio_peak(rolling_average_ratio)\n",
    "\n",
    "\n",
    "\n",
    "    for i, ratio in enumerate(rolling_average_ratio):\n",
    "        if ratio > lowq_thresh:\n",
    "            if lowq_lim is None:\n",
    "                lowq_lim = i\n",
    "\n",
    "\n",
    "        if lowq_lim is not None:\n",
    "            if i > ratio_peak_ind:\n",
    "                if ratio < hiq_thresh:\n",
    "                    if hiq_lim is None:\n",
    "                        hiq_lim = i\n",
    "                        break\n",
    "\n",
    "    return lowq_lim, hiq_lim\n"
   ]
  },
  {
   "cell_type": "code",
   "execution_count": 23,
   "id": "66ee240e-f9b6-49a8-a90c-2355716775fd",
   "metadata": {
    "tags": []
   },
   "outputs": [],
   "source": [
    "def chop_subtract(signal, background, lowq_thresh = 5, hiq_thresh = 5, hiq_avg_pts = 10, scale = False):\n",
    "    \"\"\"\n",
    "    wrapper function to handle subtraction and valid data selection \n",
    "    \"\"\"\n",
    "    assert np.isclose(signal['q'].to_numpy(), background['q'].to_numpy()).all()\n",
    "\n",
    "    loq, hiq = select_valid_data(signal, background, lowq_thresh = lowq_thresh, hiq_thresh= hiq_thresh, hiq_avg_pts = hiq_avg_pts)\n",
    "\n",
    "    subtracted_signal = subtract_background(signal, background, scale_background = False)\n",
    "\n",
    "    chopped_subtracted = subtracted_signal.iloc[loq:hiq]\n",
    "\n",
    "    return chopped_subtracted\n"
   ]
  },
  {
   "cell_type": "code",
   "execution_count": 30,
   "id": "7ff4df1b-dd63-4b1b-877a-c789fd1a061f",
   "metadata": {
    "tags": []
   },
   "outputs": [],
   "source": [
    "cleaned_esaxs = chop_subtract(esaxs_data, esaxs_bkg_data)\n",
    "cleaned_saxs = chop_subtract(saxs_data, saxs_bkg_data)\n",
    "cleaned_maxs = chop_subtract(maxs_data, maxs_bkg_data)"
   ]
  },
  {
   "cell_type": "code",
   "execution_count": 31,
   "id": "3d92eaf9-eec1-4fad-a7b7-b2dd2ed56518",
   "metadata": {
    "tags": []
   },
   "outputs": [
    {
     "data": {
      "text/plain": [
       "[<matplotlib.lines.Line2D at 0x7f3469316910>]"
      ]
     },
     "execution_count": 31,
     "metadata": {},
     "output_type": "execute_result"
    },
    {
     "data": {
      "image/png": "[encoded data removed]",
      "text/plain": [
       "<Figure size 640x480 with 1 Axes>"
      ]
     },
     "metadata": {},
     "output_type": "display_data"
    }
   ],
   "source": [
    "plt.loglog(cleaned_esaxs['q'], cleaned_esaxs['I'])\n",
    "plt.loglog(cleaned_saxs['q'], cleaned_saxs['I'])\n",
    "plt.loglog(cleaned_maxs['q'], cleaned_maxs['I'], marker = '.')"
   ]
  },
  {
   "cell_type": "code",
   "execution_count": 49,
   "id": "e357d56a-9f6e-4bb8-95a1-ec624e3f167a",
   "metadata": {
    "tags": []
   },
   "outputs": [
    {
     "data": {
      "text/plain": [
       "[<matplotlib.lines.Line2D at 0x7f34658a4a10>]"
      ]
     },
     "execution_count": 49,
     "metadata": {},
     "output_type": "execute_result"
    },
    {
     "data": {
      "image/png": "[encoded data removed]",
      "text/plain": [
       "<Figure size 400x1200 with 3 Axes>"
      ]
     },
     "metadata": {},
     "output_type": "display_data"
    }
   ],
   "source": [
    "fig, ax = plt.subplots(3,1, figsize = (4, 12))\n",
    "\n",
    "ax[0].loglog(cleaned_esaxs['q'], cleaned_esaxs['I'], marker = '.')\n",
    "ax[1].loglog(cleaned_saxs['q'], cleaned_saxs['I'], marker = '.')\n",
    "ax[2].loglog(cleaned_maxs['q'], cleaned_maxs['I'], marker = '.')"
   ]
  },
  {
   "cell_type": "code",
   "execution_count": 43,
   "id": "dc9a5181-9306-485f-8d5c-84191ccc73ac",
   "metadata": {
    "tags": []
   },
   "outputs": [
    {
     "data": {
      "text/html": [
       "<div>\n",
       "<style scoped>\n",
       "    .dataframe tbody tr th:only-of-type {\n",
       "        vertical-align: middle;\n",
       "    }\n",
       "\n",
       "    .dataframe tbody tr th {\n",
       "        vertical-align: top;\n",
       "    }\n",
       "\n",
       "    .dataframe thead th {\n",
       "        text-align: right;\n",
       "    }\n",
       "</style>\n",
       "<table border=\"1\" class=\"dataframe\">\n",
       "  <thead>\n",
       "    <tr style=\"text-align: right;\">\n",
       "      <th></th>\n",
       "      <th>q</th>\n",
       "      <th>I</th>\n",
       "      <th>sig</th>\n",
       "    </tr>\n",
       "  </thead>\n",
       "  <tbody>\n",
       "  </tbody>\n",
       "</table>\n",
       "</div>"
      ],
      "text/plain": [
       "Empty DataFrame\n",
       "Columns: [q, I, sig]\n",
       "Index: []"
      ]
     },
     "execution_count": 43,
     "metadata": {},
     "output_type": "execute_result"
    }
   ],
   "source": [
    "esaxs_data[esaxs_data['q'].isin(saxs_data['q'])]"
   ]
  },
  {
   "cell_type": "code",
   "execution_count": 55,
   "id": "1623eb2c-36f2-43f4-b89b-0a109ff21701",
   "metadata": {
    "tags": []
   },
   "outputs": [
    {
     "data": {
      "text/plain": [
       "0.01"
      ]
     },
     "execution_count": 55,
     "metadata": {},
     "output_type": "execute_result"
    }
   ],
   "source": [
    "1e-2"
   ]
  },
  {
   "cell_type": "code",
   "execution_count": 47,
   "id": "b2ef8c12-f6a0-4bae-b20d-7186ad211e68",
   "metadata": {
    "tags": []
   },
   "outputs": [
    {
     "data": {
      "text/plain": [
       "13     0.002292\n",
       "14     0.002462\n",
       "15     0.002632\n",
       "16     0.002802\n",
       "17     0.002971\n",
       "         ...   \n",
       "461    0.078359\n",
       "462    0.078528\n",
       "463    0.078698\n",
       "464    0.078868\n",
       "465    0.079038\n",
       "Name: q, Length: 453, dtype: float64"
      ]
     },
     "execution_count": 47,
     "metadata": {},
     "output_type": "execute_result"
    }
   ],
   "source": [
    "cleaned_esaxs['q']"
   ]
  },
  {
   "cell_type": "code",
   "execution_count": 48,
   "id": "208bea2b-6a2f-4011-8040-2ed2f09a274b",
   "metadata": {
    "tags": []
   },
   "outputs": [
    {
     "data": {
      "text/plain": [
       "186    0.063332\n",
       "187    0.063672\n",
       "188    0.064011\n",
       "189    0.064351\n",
       "190    0.064691\n",
       "191    0.065030\n",
       "192    0.065370\n",
       "193    0.065709\n",
       "194    0.066049\n",
       "195    0.066388\n",
       "196    0.066728\n",
       "197    0.067068\n",
       "198    0.067407\n",
       "199    0.067747\n",
       "200    0.068086\n",
       "201    0.068426\n",
       "202    0.068766\n",
       "203    0.069105\n",
       "204    0.069445\n",
       "205    0.069784\n",
       "206    0.070124\n",
       "207    0.070463\n",
       "208    0.070803\n",
       "209    0.071143\n",
       "210    0.071482\n",
       "211    0.071822\n",
       "212    0.072161\n",
       "213    0.072501\n",
       "214    0.072841\n",
       "215    0.073180\n",
       "216    0.073520\n",
       "217    0.073859\n",
       "218    0.074199\n",
       "219    0.074538\n",
       "220    0.074878\n",
       "221    0.075218\n",
       "222    0.075557\n",
       "223    0.075897\n",
       "224    0.076236\n",
       "225    0.076576\n",
       "226    0.076916\n",
       "227    0.077255\n",
       "228    0.077595\n",
       "229    0.077934\n",
       "230    0.078274\n",
       "231    0.078613\n",
       "232    0.078953\n",
       "233    0.079293\n",
       "234    0.079632\n",
       "235    0.079972\n",
       "Name: q, dtype: float64"
      ]
     },
     "execution_count": 48,
     "metadata": {},
     "output_type": "execute_result"
    }
   ],
   "source": [
    "cleaned_saxs['q'].iloc[175:225]"
   ]
  },
  {
   "cell_type": "code",
   "execution_count": 32,
   "id": "f00e602e-5cf7-434c-a95a-02131afb81b0",
   "metadata": {
    "tags": []
   },
   "outputs": [
    {
     "data": {
      "text/plain": [
       "[<matplotlib.lines.Line2D at 0x7f3469018650>]"
      ]
     },
     "execution_count": 32,
     "metadata": {},
     "output_type": "execute_result"
    },
    {
     "data": {
      "image/png": "[encoded data removed]",
      "text/plain": [
       "<Figure size 640x480 with 1 Axes>"
      ]
     },
     "metadata": {},
     "output_type": "display_data"
    }
   ],
   "source": [
    "plt.loglog(esaxs_data['q'], esaxs_data['I'])\n",
    "plt.loglog(saxs_data['q'], saxs_data['I'])\n",
    "plt.loglog(maxs_data['q'], maxs_data['I'])"
   ]
  },
  {
   "cell_type": "code",
   "execution_count": 33,
   "id": "c2312213-8dad-4508-8cbb-c36c0c21d2dc",
   "metadata": {
    "tags": []
   },
   "outputs": [],
   "source": [
    "#figure out range of data to keep "
   ]
  },
  {
   "cell_type": "code",
   "execution_count": 34,
   "id": "1a40ff7d-c78c-490c-adb2-05f57ae90af3",
   "metadata": {
    "tags": []
   },
   "outputs": [
    {
     "data": {
      "text/plain": [
       "<matplotlib.collections.LineCollection at 0x7f3468f4ec50>"
      ]
     },
     "execution_count": 34,
     "metadata": {},
     "output_type": "execute_result"
    },
    {
     "data": {
      "image/png": "[encoded data removed]",
      "text/plain": [
       "<Figure size 640x480 with 1 Axes>"
      ]
     },
     "metadata": {},
     "output_type": "display_data"
    }
   ],
   "source": [
    "signal = esaxs_data\n",
    "background = esaxs_bkg_data\n",
    "\n",
    "\n",
    "loq, hiq = select_valid_data(signal, background, lowq_thresh = 5)\n",
    "\n",
    "fig, ax = plt.subplots()\n",
    "\n",
    "\n",
    "\n",
    "ax.loglog(signal['q'], signal['I'])\n",
    "ax.loglog(background['q'], background['I'])\n",
    "\n",
    "\n",
    "#ax1.loglog(esaxs_data['q'][1:], ratio_diff, c = 'g')\n",
    "#ax1.loglog(esaxs_data['q'], rolling_average_ratio)\n",
    "\n",
    "ax.vlines(signal['q'][loq], 0, 10e6)\n",
    "ax.vlines(signal['q'][hiq], 0, 10e6)\n",
    "#ax.vlines(q_peak, 0, 10e6, color = 'r')"
   ]
  },
  {
   "cell_type": "code",
   "execution_count": 35,
   "id": "306ad952-6c80-47ad-b7ee-409510d23f25",
   "metadata": {
    "tags": []
   },
   "outputs": [
    {
     "data": {
      "text/plain": [
       "<matplotlib.collections.LineCollection at 0x7f3469686c50>"
      ]
     },
     "execution_count": 35,
     "metadata": {},
     "output_type": "execute_result"
    },
    {
     "data": {
      "image/png": "[encoded data removed]",
      "text/plain": [
       "<Figure size 640x480 with 1 Axes>"
      ]
     },
     "metadata": {},
     "output_type": "display_data"
    }
   ],
   "source": [
    "signal = saxs_data\n",
    "background = saxs_bkg_data\n",
    "\n",
    "\n",
    "loq, hiq = select_valid_data(signal, background, lowq_thresh = 5)\n",
    "\n",
    "fig, ax = plt.subplots()\n",
    "\n",
    "\n",
    "\n",
    "ax.loglog(signal['q'], signal['I'])\n",
    "ax.loglog(background['q'], background['I'])\n",
    "\n",
    "\n",
    "#ax1.loglog(esaxs_data['q'][1:], ratio_diff, c = 'g')\n",
    "#ax1.loglog(esaxs_data['q'], rolling_average_ratio)\n",
    "\n",
    "ax.vlines(signal['q'][loq], 0, 10e6)\n",
    "ax.vlines(signal['q'][hiq], 0, 10e6)\n",
    "#ax.vlines(q_peak, 0, 10e6, color = 'r')"
   ]
  },
  {
   "cell_type": "code",
   "execution_count": 36,
   "id": "ad3aa98b-52f6-4340-a1f0-287e01394187",
   "metadata": {
    "tags": []
   },
   "outputs": [
    {
     "data": {
      "text/plain": [
       "<matplotlib.collections.LineCollection at 0x7f3468d54b90>"
      ]
     },
     "execution_count": 36,
     "metadata": {},
     "output_type": "execute_result"
    },
    {
     "data": {
      "image/png": "[encoded data removed]",
      "text/plain": [
       "<Figure size 640x480 with 1 Axes>"
      ]
     },
     "metadata": {},
     "output_type": "display_data"
    }
   ],
   "source": [
    "signal = maxs_data\n",
    "background = maxs_bkg_data\n",
    "\n",
    "\n",
    "loq, hiq = select_valid_data(signal, background, lowq_thresh = 5)\n",
    "\n",
    "fig, ax = plt.subplots()\n",
    "\n",
    "\n",
    "\n",
    "ax.loglog(signal['q'], signal['I'])\n",
    "ax.loglog(background['q'], background['I'])\n",
    "\n",
    "\n",
    "#ax1.loglog(esaxs_data['q'][1:], ratio_diff, c = 'g')\n",
    "#ax1.loglog(esaxs_data['q'], rolling_average_ratio)\n",
    "\n",
    "ax.vlines(signal['q'][loq], 0, 10e6)\n",
    "ax.vlines(signal['q'][hiq], 0, 10e6)\n",
    "#ax.vlines(q_peak, 0, 10e6, color = 'r')"
   ]
  },
  {
   "cell_type": "markdown",
   "id": "8eb9facc-8fc7-413f-9057-98d635896812",
   "metadata": {},
   "source": [
    "## 3. Data merge"
   ]
  },
  {
   "cell_type": "code",
   "execution_count": null,
   "id": "06aabe6a-64a7-4749-8695-0e7c5fbecfa8",
   "metadata": {},
   "outputs": [],
   "source": [
    "#1. Figure out 'good' range for each data\n",
    "\n",
    "#low end: this is hard. probably use hard-coded qmin for now\n",
    "\n",
    "#upper end: do some sort of noise quantification. Maybe max-min over last 3 data points < 5% of average value? \n",
    "\n",
    "# 2. determine overlapping range for the 2 data sets\n",
    "\n",
    "#3. Looking within overlapping range, apply rules to figure something out\n",
    "\n",
    "    # - slopes should match\n",
    "    # - values should be close \n",
    "    \n",
    "    "
   ]
  },
  {
   "cell_type": "code",
   "execution_count": 79,
   "id": "b79c03bf-cf0e-4b10-84f7-647ff1cd718b",
   "metadata": {
    "tags": []
   },
   "outputs": [],
   "source": [
    "low_q_limit = 0.01\n",
    "hi_q_limit = 0.03\n",
    "\n",
    "low_q_source = 'esaxs'\n",
    "hi_q_source = 'saxs'\n",
    "\n",
    "low_q_data = cleaned_esaxs\n",
    "hi_q_data = cleaned_saxs\n",
    "\n",
    "def splice_datasets(low_q_data, hi_q_data, low_q_limit, high_q_limit, low_q_source, hi_q_source):\n",
    "    \"\"\"\n",
    "    Splice together low_q_data and hi_q_data. At q<lo_q_limit, only low_q_data included. Above hi_q_limit, only hi_q_data included. Between lo_q and hi_q limits, both datasets included\n",
    "    \"\"\"\n",
    "    low_q_include = low_q_data[low_q_data['q'] < hi_q_limit].copy()\n",
    "    hi_q_include = hi_q_data[hi_q_data['q'] > low_q_limit].copy()\n",
    "\n",
    "    low_q_include['source'] = low_q_source\n",
    "    hi_q_include['source'] = hi_q_source\n",
    "\n",
    "    spliced_data = pd.concat([low_q_include, hi_q_include]).sort_values('q')\n",
    "\n",
    "    return spliced_data\n"
   ]
  },
  {
   "cell_type": "code",
   "execution_count": 84,
   "id": "53ff3e53-7d24-4680-a303-4e3cb5c44f36",
   "metadata": {
    "tags": []
   },
   "outputs": [
    {
     "data": {
      "text/plain": [
       "True"
      ]
     },
     "execution_count": 84,
     "metadata": {},
     "output_type": "execute_result"
    }
   ],
   "source": [
    "#def find_overlap(data1, data2):\n",
    "\n",
    "data1 = cleaned_esaxs\n",
    "data2 = cleaned_saxs\n",
    "\n",
    "data1_qmax = data1['q'].max()\n",
    "data1_qmin = data1['q'].min()\n",
    "\n",
    "data2_qmax = data2['q'].max()\n",
    "data2_qmin = data2['q'].min()\n",
    "\n",
    "# for overlap:\n",
    "if data1_qmax > data2_qmin or data1_qmin < data2_qmax:\n",
    "    # we have some overlap, one could be entirely contained\n",
    "    # figure out if strictly overlap or contined\n",
    "    \n",
    "    \n",
    "\n",
    "\n",
    "\n",
    "# return regions of each dataset that are strictly within the other \n",
    "\n",
    "# raise error if there is no everlap"
   ]
  },
  {
   "cell_type": "code",
   "execution_count": 82,
   "id": "f9390dd4-63d5-45df-aee8-a43fa4c0ec65",
   "metadata": {
    "tags": []
   },
   "outputs": [
    {
     "data": {
      "text/plain": [
       "Series([], Name: q, dtype: float64)"
      ]
     },
     "execution_count": 82,
     "metadata": {},
     "output_type": "execute_result"
    }
   ],
   "source": [
    "#def interpolate_on_q(data, q_grid):\n",
    "q_grid = cleaned_esaxs['q']\n",
    "\n",
    "# get overlapping regions\n",
    "donor_grid = cleaned_saxs['q']\n",
    "\n",
    "#low q: q on donor grid such at next biggest q is 'in' target grid'\n",
    "donor[donor_grid < q_grid.min()]\n",
    "\n",
    "\n",
    "# within overlapping regions:\n",
    "\n",
    "# need to assign an I value to each q on q grid\n",
    "\n",
    "# iterate over q_grid and linear interpolate q at each q_grid point\n",
    "\n",
    "\n"
   ]
  },
  {
   "cell_type": "code",
   "execution_count": null,
   "id": "88bc7e00-cd00-45e4-a95b-562563cbcdfe",
   "metadata": {},
   "outputs": [],
   "source": []
  },
  {
   "cell_type": "code",
   "execution_count": 66,
   "id": "ad844ae8-8c0b-4626-8f83-45fd805dfbef",
   "metadata": {
    "tags": []
   },
   "outputs": [],
   "source": [
    "low_q_include['source'] =  'esaxs'"
   ]
  },
  {
   "cell_type": "code",
   "execution_count": 67,
   "id": "97c4a9fa-9ffc-4ad8-8a83-b69ef95c6d45",
   "metadata": {
    "tags": []
   },
   "outputs": [
    {
     "data": {
      "text/html": [
       "<div>\n",
       "<style scoped>\n",
       "    .dataframe tbody tr th:only-of-type {\n",
       "        vertical-align: middle;\n",
       "    }\n",
       "\n",
       "    .dataframe tbody tr th {\n",
       "        vertical-align: top;\n",
       "    }\n",
       "\n",
       "    .dataframe thead th {\n",
       "        text-align: right;\n",
       "    }\n",
       "</style>\n",
       "<table border=\"1\" class=\"dataframe\">\n",
       "  <thead>\n",
       "    <tr style=\"text-align: right;\">\n",
       "      <th></th>\n",
       "      <th>q</th>\n",
       "      <th>I</th>\n",
       "      <th>sig</th>\n",
       "      <th>source</th>\n",
       "    </tr>\n",
       "  </thead>\n",
       "  <tbody>\n",
       "    <tr>\n",
       "      <th>13</th>\n",
       "      <td>0.002292</td>\n",
       "      <td>4197.308413</td>\n",
       "      <td>10.742488</td>\n",
       "      <td>esaxs</td>\n",
       "    </tr>\n",
       "    <tr>\n",
       "      <th>14</th>\n",
       "      <td>0.002462</td>\n",
       "      <td>3983.665166</td>\n",
       "      <td>7.994859</td>\n",
       "      <td>esaxs</td>\n",
       "    </tr>\n",
       "    <tr>\n",
       "      <th>15</th>\n",
       "      <td>0.002632</td>\n",
       "      <td>3768.83247</td>\n",
       "      <td>7.150804</td>\n",
       "      <td>esaxs</td>\n",
       "    </tr>\n",
       "    <tr>\n",
       "      <th>16</th>\n",
       "      <td>0.002802</td>\n",
       "      <td>3580.285668</td>\n",
       "      <td>6.718719</td>\n",
       "      <td>esaxs</td>\n",
       "    </tr>\n",
       "    <tr>\n",
       "      <th>17</th>\n",
       "      <td>0.002971</td>\n",
       "      <td>3401.373291</td>\n",
       "      <td>6.092482</td>\n",
       "      <td>esaxs</td>\n",
       "    </tr>\n",
       "    <tr>\n",
       "      <th>...</th>\n",
       "      <td>...</td>\n",
       "      <td>...</td>\n",
       "      <td>...</td>\n",
       "      <td>...</td>\n",
       "    </tr>\n",
       "    <tr>\n",
       "      <th>173</th>\n",
       "      <td>0.029459</td>\n",
       "      <td>1.19516</td>\n",
       "      <td>0.037885</td>\n",
       "      <td>esaxs</td>\n",
       "    </tr>\n",
       "    <tr>\n",
       "      <th>174</th>\n",
       "      <td>0.029629</td>\n",
       "      <td>1.160621</td>\n",
       "      <td>0.03722</td>\n",
       "      <td>esaxs</td>\n",
       "    </tr>\n",
       "    <tr>\n",
       "      <th>175</th>\n",
       "      <td>0.029798</td>\n",
       "      <td>1.168334</td>\n",
       "      <td>0.037251</td>\n",
       "      <td>esaxs</td>\n",
       "    </tr>\n",
       "    <tr>\n",
       "      <th>176</th>\n",
       "      <td>0.029968</td>\n",
       "      <td>1.195914</td>\n",
       "      <td>0.03713</td>\n",
       "      <td>esaxs</td>\n",
       "    </tr>\n",
       "    <tr>\n",
       "      <th>source</th>\n",
       "      <td>esaxs</td>\n",
       "      <td>esaxs</td>\n",
       "      <td>esaxs</td>\n",
       "      <td>esaxs</td>\n",
       "    </tr>\n",
       "  </tbody>\n",
       "</table>\n",
       "<p>165 rows × 4 columns</p>\n",
       "</div>"
      ],
      "text/plain": [
       "               q            I        sig source\n",
       "13      0.002292  4197.308413  10.742488  esaxs\n",
       "14      0.002462  3983.665166   7.994859  esaxs\n",
       "15      0.002632   3768.83247   7.150804  esaxs\n",
       "16      0.002802  3580.285668   6.718719  esaxs\n",
       "17      0.002971  3401.373291   6.092482  esaxs\n",
       "...          ...          ...        ...    ...\n",
       "173     0.029459      1.19516   0.037885  esaxs\n",
       "174     0.029629     1.160621    0.03722  esaxs\n",
       "175     0.029798     1.168334   0.037251  esaxs\n",
       "176     0.029968     1.195914    0.03713  esaxs\n",
       "source     esaxs        esaxs      esaxs  esaxs\n",
       "\n",
       "[165 rows x 4 columns]"
      ]
     },
     "execution_count": 67,
     "metadata": {},
     "output_type": "execute_result"
    }
   ],
   "source": [
    "low_q_include"
   ]
  },
  {
   "cell_type": "code",
   "execution_count": 82,
   "id": "bd22b91c-ecad-4895-ae4a-0294913d5177",
   "metadata": {
    "tags": []
   },
   "outputs": [
    {
     "name": "stdout",
     "output_type": "stream",
     "text": [
      "5\n"
     ]
    },
    {
     "name": "stderr",
     "output_type": "stream",
     "text": [
      "/tmp/ipykernel_5466/1559568081.py:24: RuntimeWarning: divide by zero encountered in log\n",
      "  Irange = np.log(Imax) - np.log(Imin)\n",
      "/tmp/ipykernel_5466/1559568081.py:22: RuntimeWarning: divide by zero encountered in log\n",
      "  Iavg = np.log(np.mean(last_3_Is))\n",
      "/tmp/ipykernel_5466/1559568081.py:24: RuntimeWarning: invalid value encountered in scalar subtract\n",
      "  Irange = np.log(Imax) - np.log(Imin)\n"
     ]
    }
   ],
   "source": [
    "#iterate over values in I\n",
    "last_3_Is = []\n",
    "variance = []\n",
    "avg = []\n",
    "ranges = []\n",
    "\n",
    "\n",
    "for i, row in data1.iterrows():\n",
    "    I = row['I']\n",
    "    if i < 5:\n",
    "        last_3_Is.append(I)\n",
    "        continue\n",
    "    else:\n",
    "        \n",
    "        if i == 100:\n",
    "            print(len(last_3_Is))\n",
    "        \n",
    "        last_3_Is.append(I)\n",
    "        \n",
    "        Imin = min(last_3_Is)\n",
    "        Imax = max(last_3_Is)\n",
    "        Iavg = np.log(np.mean(last_3_Is))\n",
    "        \n",
    "        Irange = np.log(Imax) - np.log(Imin)\n",
    "        avg.append(Iavg)\n",
    "        ranges.append(Iavg)\n",
    "        \n",
    "        var = Irange/Iavg\n",
    "        \n",
    "        variance.append(var)\n",
    "        last_3_Is.pop(0)\n",
    "        \n",
    "        \n",
    "        \n",
    "\n",
    "# For last 3 values, get min and max val\n",
    "\n",
    "# min-max should be less than x % of average of last 3 values \n"
   ]
  },
  {
   "cell_type": "code",
   "execution_count": 83,
   "id": "ec61d8a8-6d22-4454-823d-37223bb6b8ac",
   "metadata": {
    "tags": []
   },
   "outputs": [
    {
     "data": {
      "text/plain": [
       "inf"
      ]
     },
     "execution_count": 83,
     "metadata": {},
     "output_type": "execute_result"
    }
   ],
   "source": [
    "Irange"
   ]
  },
  {
   "cell_type": "code",
   "execution_count": 84,
   "id": "954171be-92ef-4613-bde3-af1d4894ecec",
   "metadata": {
    "tags": []
   },
   "outputs": [
    {
     "data": {
      "text/plain": [
       "-3.4020933544839136"
      ]
     },
     "execution_count": 84,
     "metadata": {},
     "output_type": "execute_result"
    }
   ],
   "source": [
    "Iavg"
   ]
  },
  {
   "cell_type": "code",
   "execution_count": 85,
   "id": "d49e1acf-92ab-43e9-aa97-782a253d7483",
   "metadata": {
    "tags": []
   },
   "outputs": [
    {
     "data": {
      "text/plain": [
       "[<matplotlib.lines.Line2D at 0x7fd2b2c58d50>]"
      ]
     },
     "execution_count": 85,
     "metadata": {},
     "output_type": "execute_result"
    },
    {
     "data": {
      "image/png": "[encoded data removed]",
      "text/plain": [
       "<Figure size 640x480 with 1 Axes>"
      ]
     },
     "metadata": {},
     "output_type": "display_data"
    }
   ],
   "source": [
    "plt.plot(variance)"
   ]
  },
  {
   "cell_type": "code",
   "execution_count": 86,
   "id": "f09b66fb-9052-4d5b-b17c-cb6b1d3296ee",
   "metadata": {
    "tags": []
   },
   "outputs": [
    {
     "data": {
      "text/plain": [
       "[<matplotlib.lines.Line2D at 0x7fd2b2a77dd0>]"
      ]
     },
     "execution_count": 86,
     "metadata": {},
     "output_type": "execute_result"
    },
    {
     "data": {
      "image/png": "[encoded data removed]",
      "text/plain": [
       "<Figure size 640x480 with 1 Axes>"
      ]
     },
     "metadata": {},
     "output_type": "display_data"
    }
   ],
   "source": [
    "plt.semilogy(variance)"
   ]
  },
  {
   "cell_type": "code",
   "execution_count": 81,
   "id": "9214f715-da81-4e49-8eeb-63268284b533",
   "metadata": {},
   "outputs": [
    {
     "data": {
      "text/plain": [
       "[<matplotlib.lines.Line2D at 0x7fd2b32c8f50>]"
      ]
     },
     "execution_count": 81,
     "metadata": {},
     "output_type": "execute_result"
    },
    {
     "data": {
      "image/png": "[encoded data removed]",
      "text/plain": [
       "<Figure size 640x480 with 1 Axes>"
      ]
     },
     "metadata": {},
     "output_type": "display_data"
    }
   ],
   "source": [
    "plt.loglog(data1['q'], data1['I'], ls = ' ', marker = '.')"
   ]
  },
  {
   "cell_type": "code",
   "execution_count": null,
   "id": "28e88fd5-d2fa-4087-8e28-5653015b2c5a",
   "metadata": {},
   "outputs": [],
   "source": []
  }
 ],
 "metadata": {
  "kernelspec": {
   "display_name": "Python 3 (ipykernel)",
   "language": "python",
   "name": "python3"
  },
  "language_info": {
   "codemirror_mode": {
    "name": "ipython",
    "version": 3
   },
   "file_extension": ".py",
   "mimetype": "text/x-python",
   "name": "python",
   "nbconvert_exporter": "python",
   "pygments_lexer": "ipython3",
   "version": "3.11.5"
  }
 },
 "nbformat": 4,
 "nbformat_minor": 5
}
