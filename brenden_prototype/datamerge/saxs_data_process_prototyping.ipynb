{
 "cells": [
  {
   "cell_type": "code",
   "execution_count": 45,
   "id": "6aa7eb43-1807-4a08-b67c-97dc1e85fa18",
   "metadata": {
    "tags": []
   },
   "outputs": [],
   "source": [
    "import pandas as pd\n",
    "import numpy as np\n",
    "import matplotlib.pyplot as plt"
   ]
  },
  {
   "cell_type": "markdown",
   "id": "e4da5501-f958-4131-8543-5842cae42983",
   "metadata": {},
   "source": [
    "## 1. Load data"
   ]
  },
  {
   "cell_type": "code",
   "execution_count": 10,
   "id": "53a9af1d-040d-4d2d-9677-edf23fcb012e",
   "metadata": {
    "tags": []
   },
   "outputs": [],
   "source": [
    "def numerify(var):\n",
    "    \"\"\"\n",
    "    Cast an object as an int or float if possible. Otherwise return unmodified\n",
    "    \"\"\"\n",
    "    \n",
    "    if isinstance(var, str):\n",
    "        try:\n",
    "            var = int(var)\n",
    "\n",
    "        except:\n",
    "            try:\n",
    "                var = float(var)\n",
    "            except:\n",
    "                pass\n",
    "    else:\n",
    "        pass\n",
    "            \n",
    "    return var"
   ]
  },
  {
   "cell_type": "code",
   "execution_count": 48,
   "id": "5a945a17-8cc7-4ec0-9148-1fbdcd144f78",
   "metadata": {},
   "outputs": [],
   "source": [
    "#write a nice data loader\n",
    "#should return metadata as a dict, data in a pandas df\n",
    "\n",
    "\n",
    "def read_1D_data(fp):\n",
    "    \"\"\"\n",
    "    Read a 1D Xenocs data .dat file\n",
    "    \"\"\"\n",
    "    metadata = {}\n",
    "    q = []\n",
    "    I = []\n",
    "    sig = []\n",
    "    header_count = 0\n",
    "\n",
    "    in_data = False # flag for if we are read into data yet\n",
    "\n",
    "    with open(fp, 'rt') as f:\n",
    "        for line in f:\n",
    "            if not in_data:\n",
    "                if line[:2] == '##': #metadata section header \n",
    "                    header_count +=1\n",
    "                    continue\n",
    "                elif line[:2] == '# ':\n",
    "                    items = line.split()\n",
    "                    metadata[items[1]] = numerify(items[2])\n",
    "\n",
    "                elif line[0] == 'q' and header_count == 2:\n",
    "                    in_data = True\n",
    "            elif in_data:\n",
    "                vals = line.split()\n",
    "                q.append(numerify(vals[0]))\n",
    "                I.append(numerify(vals[1]))\n",
    "                sig.append(numerify(vals[2]))\n",
    "\n",
    "\n",
    "    data = pd.DataFrame({'q':q, 'I':I, 'sig':sig})\n",
    "    \n",
    "    return data, metadata\n",
    "                \n",
    "\n",
    "        "
   ]
  },
  {
   "cell_type": "code",
   "execution_count": 49,
   "id": "f1f363f5-ea91-4252-9ce0-e22bfbd8d8a0",
   "metadata": {},
   "outputs": [],
   "source": [
    "esaxs_data, esaxs_metadata = read_1D_data('data/Data_0_00002.dat')\n",
    "saxs_data, saxs_metadata = read_1D_data('data/Data_0_00016.dat')\n",
    "maxs_data, maxs_metadata = read_1D_data('data/Data_0_00030.dat')\n",
    "\n",
    "esaxs_bkg_data, esaxs_bkg_metadata = read_1D_data('data/Data_0_00012.dat')\n",
    "saxs_bkg_data, saxs_bkg_metadata = read_1D_data('data/Data_0_00026.dat')\n",
    "maxs_bkg_data, maxs_bkg_metadata = read_1D_data('data/Data_0_00040.dat')"
   ]
  },
  {
   "cell_type": "markdown",
   "id": "a93710e1-8828-4787-ae00-95e1db76526d",
   "metadata": {},
   "source": [
    "## 2. Subtract background"
   ]
  },
  {
   "cell_type": "code",
   "execution_count": 50,
   "id": "7b2dc0f8-8c8f-49bc-b290-5387a0a832eb",
   "metadata": {},
   "outputs": [
    {
     "data": {
      "text/plain": [
       "905"
      ]
     },
     "execution_count": 50,
     "metadata": {},
     "output_type": "execute_result"
    }
   ],
   "source": [
    "len(esaxs_data)"
   ]
  },
  {
   "cell_type": "code",
   "execution_count": 51,
   "id": "987b7076-4550-46b8-887c-e8c432a113a9",
   "metadata": {},
   "outputs": [
    {
     "data": {
      "text/plain": [
       "905"
      ]
     },
     "execution_count": 51,
     "metadata": {},
     "output_type": "execute_result"
    }
   ],
   "source": [
    "len(esaxs_bkg_data)"
   ]
  },
  {
   "cell_type": "code",
   "execution_count": 52,
   "id": "44fd3dab-01a1-47f5-b997-2bf0c0c43495",
   "metadata": {},
   "outputs": [
    {
     "data": {
      "text/plain": [
       "904"
      ]
     },
     "execution_count": 52,
     "metadata": {},
     "output_type": "execute_result"
    }
   ],
   "source": [
    "len(saxs_data)\n"
   ]
  },
  {
   "cell_type": "code",
   "execution_count": 53,
   "id": "a8863154-de7c-4fbf-9d9f-b0bf244cb5d3",
   "metadata": {
    "tags": []
   },
   "outputs": [
    {
     "data": {
      "text/plain": [
       "904"
      ]
     },
     "execution_count": 53,
     "metadata": {},
     "output_type": "execute_result"
    }
   ],
   "source": [
    "len(saxs_bkg_data)"
   ]
  },
  {
   "cell_type": "code",
   "execution_count": 55,
   "id": "58245533-4fc7-4df7-89d8-7e9383723bff",
   "metadata": {
    "tags": []
   },
   "outputs": [
    {
     "data": {
      "text/html": [
       "<div>\n",
       "<style scoped>\n",
       "    .dataframe tbody tr th:only-of-type {\n",
       "        vertical-align: middle;\n",
       "    }\n",
       "\n",
       "    .dataframe tbody tr th {\n",
       "        vertical-align: top;\n",
       "    }\n",
       "\n",
       "    .dataframe thead th {\n",
       "        text-align: right;\n",
       "    }\n",
       "</style>\n",
       "<table border=\"1\" class=\"dataframe\">\n",
       "  <thead>\n",
       "    <tr style=\"text-align: right;\">\n",
       "      <th></th>\n",
       "      <th>q</th>\n",
       "      <th>I</th>\n",
       "      <th>sig</th>\n",
       "    </tr>\n",
       "  </thead>\n",
       "  <tbody>\n",
       "    <tr>\n",
       "      <th>0</th>\n",
       "      <td>0.000413</td>\n",
       "      <td>322285.331808</td>\n",
       "      <td>30.984182</td>\n",
       "    </tr>\n",
       "    <tr>\n",
       "      <th>1</th>\n",
       "      <td>0.001239</td>\n",
       "      <td>288617.848260</td>\n",
       "      <td>19.547451</td>\n",
       "    </tr>\n",
       "    <tr>\n",
       "      <th>2</th>\n",
       "      <td>0.002065</td>\n",
       "      <td>249204.608163</td>\n",
       "      <td>13.622847</td>\n",
       "    </tr>\n",
       "    <tr>\n",
       "      <th>3</th>\n",
       "      <td>0.002891</td>\n",
       "      <td>196468.468268</td>\n",
       "      <td>10.315375</td>\n",
       "    </tr>\n",
       "    <tr>\n",
       "      <th>4</th>\n",
       "      <td>0.003717</td>\n",
       "      <td>139626.010254</td>\n",
       "      <td>7.446849</td>\n",
       "    </tr>\n",
       "    <tr>\n",
       "      <th>...</th>\n",
       "      <td>...</td>\n",
       "      <td>...</td>\n",
       "      <td>...</td>\n",
       "    </tr>\n",
       "    <tr>\n",
       "      <th>890</th>\n",
       "      <td>0.735565</td>\n",
       "      <td>0.011113</td>\n",
       "      <td>0.003405</td>\n",
       "    </tr>\n",
       "    <tr>\n",
       "      <th>891</th>\n",
       "      <td>0.736391</td>\n",
       "      <td>0.014249</td>\n",
       "      <td>0.005973</td>\n",
       "    </tr>\n",
       "    <tr>\n",
       "      <th>892</th>\n",
       "      <td>0.737217</td>\n",
       "      <td>0.014722</td>\n",
       "      <td>0.005131</td>\n",
       "    </tr>\n",
       "    <tr>\n",
       "      <th>893</th>\n",
       "      <td>0.738043</td>\n",
       "      <td>0.010896</td>\n",
       "      <td>0.008259</td>\n",
       "    </tr>\n",
       "    <tr>\n",
       "      <th>894</th>\n",
       "      <td>0.738869</td>\n",
       "      <td>0.019175</td>\n",
       "      <td>0.015495</td>\n",
       "    </tr>\n",
       "  </tbody>\n",
       "</table>\n",
       "<p>895 rows × 3 columns</p>\n",
       "</div>"
      ],
      "text/plain": [
       "            q              I        sig\n",
       "0    0.000413  322285.331808  30.984182\n",
       "1    0.001239  288617.848260  19.547451\n",
       "2    0.002065  249204.608163  13.622847\n",
       "3    0.002891  196468.468268  10.315375\n",
       "4    0.003717  139626.010254   7.446849\n",
       "..        ...            ...        ...\n",
       "890  0.735565       0.011113   0.003405\n",
       "891  0.736391       0.014249   0.005973\n",
       "892  0.737217       0.014722   0.005131\n",
       "893  0.738043       0.010896   0.008259\n",
       "894  0.738869       0.019175   0.015495\n",
       "\n",
       "[895 rows x 3 columns]"
      ]
     },
     "execution_count": 55,
     "metadata": {},
     "output_type": "execute_result"
    }
   ],
   "source": [
    "maxs_data"
   ]
  },
  {
   "cell_type": "code",
   "execution_count": 68,
   "id": "a473fca4-4f02-4593-ae89-bdf8fd8905c6",
   "metadata": {
    "tags": []
   },
   "outputs": [],
   "source": [
    "scale_factor = esaxs_metadata['Intensity1']/esaxs_bkg_metadata['Intensity1']"
   ]
  },
  {
   "cell_type": "code",
   "execution_count": 56,
   "id": "0195c69f-63d9-4811-8188-159717818a3a",
   "metadata": {
    "tags": []
   },
   "outputs": [
    {
     "data": {
      "text/plain": [
       "[<matplotlib.lines.Line2D at 0x7f4125b52650>]"
      ]
     },
     "execution_count": 56,
     "metadata": {},
     "output_type": "execute_result"
    },
    {
     "data": {
      "image/png": "[encoded data removed]",
      "text/plain": [
       "<Figure size 640x480 with 1 Axes>"
      ]
     },
     "metadata": {},
     "output_type": "display_data"
    }
   ],
   "source": [
    "plt.loglog(esaxs_data['q'], esaxs_data['I'])\n",
    "plt.loglog(esaxs_bkg_data['q'], esaxs_bkg_data['I'])"
   ]
  },
  {
   "cell_type": "code",
   "execution_count": 71,
   "id": "eb3725a8-5d76-43d8-b3bc-709528743f6b",
   "metadata": {
    "tags": []
   },
   "outputs": [
    {
     "data": {
      "text/plain": [
       "[<matplotlib.lines.Line2D at 0x7f4124c3db50>]"
      ]
     },
     "execution_count": 71,
     "metadata": {},
     "output_type": "execute_result"
    },
    {
     "data": {
      "image/png": "[encoded data removed]",
      "text/plain": [
       "<Figure size 640x480 with 1 Axes>"
      ]
     },
     "metadata": {},
     "output_type": "display_data"
    }
   ],
   "source": [
    "plt.loglog(esaxs_data['q'], esaxs_data['I'] - esaxs_bkg_data['I'])\n",
    "plt.loglog(esaxs_data['q'], esaxs_data['I'] - scale_factor*esaxs_bkg_data['I'])\n"
   ]
  },
  {
   "cell_type": "code",
   "execution_count": 60,
   "id": "6e5b5e65-3ad5-4491-84d9-c88c1173c12d",
   "metadata": {
    "tags": []
   },
   "outputs": [
    {
     "data": {
      "text/plain": [
       "0.8872042421472405"
      ]
     },
     "execution_count": 60,
     "metadata": {},
     "output_type": "execute_result"
    }
   ],
   "source": [
    "esaxs_metadata['Intensity1']/esaxs_bkg_metadata['Intensity1']"
   ]
  },
  {
   "cell_type": "code",
   "execution_count": 61,
   "id": "81e7e8fb-d17d-4015-bfab-f2957a470df8",
   "metadata": {
    "tags": []
   },
   "outputs": [
    {
     "data": {
      "text/plain": [
       "0.8872025184842883"
      ]
     },
     "execution_count": 61,
     "metadata": {},
     "output_type": "execute_result"
    }
   ],
   "source": [
    "esaxs_metadata['SumForIntensity1']/esaxs_bkg_metadata['SumForIntensity1']"
   ]
  },
  {
   "cell_type": "code",
   "execution_count": 65,
   "id": "d16edce2-bf96-4026-99dd-bad4342de65d",
   "metadata": {
    "tags": []
   },
   "outputs": [
    {
     "data": {
      "text/plain": [
       "0.9902324273460307"
      ]
     },
     "execution_count": 65,
     "metadata": {},
     "output_type": "execute_result"
    }
   ],
   "source": [
    "esaxs_data['I'][0]/esaxs_bkg_data['I'][0]"
   ]
  },
  {
   "cell_type": "code",
   "execution_count": 64,
   "id": "dd0f7895-8ac6-456c-997f-7bd0f4adac6e",
   "metadata": {
    "tags": []
   },
   "outputs": [
    {
     "data": {
      "text/plain": [
       "6522082.655000107"
      ]
     },
     "execution_count": 64,
     "metadata": {},
     "output_type": "execute_result"
    }
   ],
   "source": [
    "esaxs_bkg_data['I'][0]"
   ]
  },
  {
   "cell_type": "markdown",
   "id": "8eb9facc-8fc7-413f-9057-98d635896812",
   "metadata": {},
   "source": [
    "## 3. Data merge"
   ]
  },
  {
   "cell_type": "code",
   "execution_count": null,
   "id": "06aabe6a-64a7-4749-8695-0e7c5fbecfa8",
   "metadata": {},
   "outputs": [],
   "source": []
  },
  {
   "cell_type": "code",
   "execution_count": null,
   "id": "9214f715-da81-4e49-8eeb-63268284b533",
   "metadata": {},
   "outputs": [],
   "source": []
  },
  {
   "cell_type": "code",
   "execution_count": null,
   "id": "28e88fd5-d2fa-4087-8e28-5653015b2c5a",
   "metadata": {},
   "outputs": [],
   "source": []
  }
 ],
 "metadata": {
  "kernelspec": {
   "display_name": "Python 3 (ipykernel)",
   "language": "python",
   "name": "python3"
  },
  "language_info": {
   "codemirror_mode": {
    "name": "ipython",
    "version": 3
   },
   "file_extension": ".py",
   "mimetype": "text/x-python",
   "name": "python",
   "nbconvert_exporter": "python",
   "pygments_lexer": "ipython3",
   "version": "3.11.5"
  }
 },
 "nbformat": 4,
 "nbformat_minor": 5
}
